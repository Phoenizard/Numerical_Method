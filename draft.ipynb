{
 "cells": [
  {
   "cell_type": "code",
   "execution_count": 4,
   "metadata": {},
   "outputs": [],
   "source": [
    "import torch\n",
    "from modules import Simple_Perceptron\n",
    "from data import grip_data\n",
    "import random\n",
    "import time\n",
    "import numpy as np\n",
    "from utils import validate\n",
    "from tqdm import tqdm\n",
    "\n",
    "def set_seed(seed):\n",
    "    torch.manual_seed(seed)\n",
    "    torch.cuda.manual_seed(seed)\n",
    "    torch.cuda.manual_seed_all(seed)  # 如果有多个GPU\n",
    "    np.random.seed(seed)\n",
    "    random.seed(seed)\n",
    "    torch.backends.cudnn.deterministic = True\n",
    "    torch.backends.cudnn.benchmark = False\n",
    "\n",
    "# 设置随机数种子，例如：\n",
    "set_seed(42)"
   ]
  },
  {
   "cell_type": "code",
   "execution_count": 2,
   "metadata": {},
   "outputs": [
    {
     "data": {
      "text/plain": [
       "device(type='cuda')"
      ]
     },
     "execution_count": 2,
     "metadata": {},
     "output_type": "execute_result"
    }
   ],
   "source": [
    "# device = torch.device('mps' if torch.backends.mps.is_available() else 'cuda')\n",
    "device = torch.device('cuda' if torch.cuda.is_available() else 'cpu')\n",
    "model = Simple_Perceptron.Simple_Perceptron(41, 100, 1)\n",
    "model = model.to(device)\n",
    "train_loader, X_train, Y_train, X_test, Y_test, D = grip_data.load_data(l=64, device=device)\n",
    "device"
   ]
  },
  {
   "cell_type": "code",
   "execution_count": 21,
   "metadata": {},
   "outputs": [],
   "source": [
    "def G_modified(X, model):\n",
    "    # 开始计时\n",
    "    # start = time.time()\n",
    "    \n",
    "    input_dim, m = model.W.shape  # m: 隐藏层神经元数量, input_dim: 输入维度\n",
    "    batch_size = X.shape[0]       # batch_size: 批处理大小\n",
    "    \n",
    "    # 初始化 Jacobian 矩阵 J，大小为 (batch_size, m * (input_dim + 1))\n",
    "    J = torch.zeros(batch_size, m * (input_dim + 1), device=X.device)\n",
    "    \n",
    "    # 计算所有样本的 <w_i, x> 和 ReLU 激活\n",
    "    relu_input = X @ model.W  # (batch_size, m)\n",
    "    relu_output = torch.relu(relu_input)  # (batch_size, m)\n",
    "    \n",
    "    # 对 w_i 的部分并行计算 Jacobian\n",
    "    for j in range(m):\n",
    "        mask = relu_output[:, j] > 0  # 只选择 ReLU 激活大于0的元素\n",
    "        J[:, j*input_dim:(j+1)*input_dim] = (model.a[j] * X * mask.view(-1, 1)) / m\n",
    "    \n",
    "    # 对 a_i 的部分并行计算 Jacobian\n",
    "    J[:, m*input_dim:] = relu_output / m\n",
    "\n",
    "    # # 结束计时\n",
    "    # end = time.time()\n",
    "    # print(\"优化后Time: \", end - start)\n",
    "    \n",
    "    return J"
   ]
  },
  {
   "cell_type": "code",
   "execution_count": 19,
   "metadata": {},
   "outputs": [
    {
     "name": "stdout",
     "output_type": "stream",
     "text": [
      "tensor(179.6503, device='cuda:0', grad_fn=<LinalgVectorNormBackward0>)\n"
     ]
    }
   ],
   "source": [
    "def G(X, Y, model):\n",
    "    # 开始计时\n",
    "    start = time.time()\n",
    "    \n",
    "    input_dim, m= model.W.shape  # m: 隐藏层神经元数量, input_dim: 输入维度\n",
    "    batch_size = X.shape[0]       # batch_size: 批处理大小\n",
    "    \n",
    "    # 初始化 Jacobian 矩阵 J，大小为 (batch_size, m * (input_dim + 1))\n",
    "    J = torch.zeros(batch_size, m * (input_dim + 1), device=X.device)\n",
    "    \n",
    "    for i in range(batch_size):\n",
    "        x = X[i].reshape(1, -1)  # x 的尺寸为 (,input_dim)\n",
    "        # print(x.shape, model.W.shape)\n",
    "        relu_input = x @ model.W \n",
    "        relu_output = torch.relu(relu_input)   # 计算 relu(<w_i, x>)，结果为 (m,)\n",
    "        for j in range(m):\n",
    "            if relu_output[0, j] > 0:\n",
    "                # print(J[i, j*input_dim: (j+1)*input_dim].shape)\n",
    "                # print(relu_output.shape)\n",
    "                J[i, j*input_dim: (j+1)*input_dim] = model.a[j] * x.view(-1) / m\n",
    "        J[i, m*input_dim:] = relu_output / m\n",
    "    # 结束计时\n",
    "    end = time.time()\n",
    "    # print(\"优化前Time: \", end - start)\n",
    "    return J\n",
    "\n",
    "for X, Y in train_loader:\n",
    "    U = (model(X) - Y.reshape(-1, 1))\n",
    "    J_1 = G(X, Y, model)\n",
    "    J_2 = G_modified(X, Y, model)\n",
    "    U = (model.forward(X) - Y.reshape(-1, 1))\n",
    "    theta_0 = torch.cat([model.W.flatten(), model.a.flatten()]).reshape(-1, 1)\n",
    "    J_3 = torch.zeros(U.shape[0], theta_0.numel(), device=device)\n",
    "    #=========Remain to be Update=============\n",
    "    for i in range(U.shape[0]):\n",
    "        U[i].backward(retain_graph=True)\n",
    "        J_3[i] = torch.cat([model.W.grad.flatten(), model.a.grad.flatten()])\n",
    "        model.W.grad.zero_()\n",
    "        model.a.grad.zero_()\n",
    "    \n",
    "    print(torch.norm(J_3 - J_2))\n",
    "    break"
   ]
  },
  {
   "cell_type": "code",
   "execution_count": 23,
   "metadata": {},
   "outputs": [
    {
     "name": "stderr",
     "output_type": "stream",
     "text": [
      " 10%|█         | 1/10 [00:01<00:17,  1.90s/it]"
     ]
    },
    {
     "name": "stdout",
     "output_type": "stream",
     "text": [
      "Epoch 1: Train Loss: 0.42189860343933105, Test Loss: 0.43460991978645325\n"
     ]
    },
    {
     "name": "stderr",
     "output_type": "stream",
     "text": [
      " 20%|██        | 2/10 [00:03<00:14,  1.82s/it]"
     ]
    },
    {
     "name": "stdout",
     "output_type": "stream",
     "text": [
      "Epoch 2: Train Loss: 0.4833986461162567, Test Loss: 0.5065326690673828\n"
     ]
    },
    {
     "name": "stderr",
     "output_type": "stream",
     "text": [
      " 30%|███       | 3/10 [00:05<00:12,  1.80s/it]"
     ]
    },
    {
     "name": "stdout",
     "output_type": "stream",
     "text": [
      "Epoch 3: Train Loss: 0.4438907206058502, Test Loss: 0.4669342637062073\n"
     ]
    },
    {
     "name": "stderr",
     "output_type": "stream",
     "text": [
      " 40%|████      | 4/10 [00:07<00:10,  1.79s/it]"
     ]
    },
    {
     "name": "stdout",
     "output_type": "stream",
     "text": [
      "Epoch 4: Train Loss: 0.46449196338653564, Test Loss: 0.48483845591545105\n"
     ]
    },
    {
     "name": "stderr",
     "output_type": "stream",
     "text": [
      " 50%|█████     | 5/10 [00:08<00:08,  1.78s/it]"
     ]
    },
    {
     "name": "stdout",
     "output_type": "stream",
     "text": [
      "Epoch 5: Train Loss: 0.5468817353248596, Test Loss: 0.5971066951751709\n"
     ]
    },
    {
     "name": "stderr",
     "output_type": "stream",
     "text": [
      " 60%|██████    | 6/10 [00:10<00:07,  1.78s/it]"
     ]
    },
    {
     "name": "stdout",
     "output_type": "stream",
     "text": [
      "Epoch 6: Train Loss: 0.5308660864830017, Test Loss: 0.5275813341140747\n"
     ]
    },
    {
     "name": "stderr",
     "output_type": "stream",
     "text": [
      " 70%|███████   | 7/10 [00:12<00:05,  1.77s/it]"
     ]
    },
    {
     "name": "stdout",
     "output_type": "stream",
     "text": [
      "Epoch 7: Train Loss: 0.490449458360672, Test Loss: 0.5030314922332764\n"
     ]
    },
    {
     "name": "stderr",
     "output_type": "stream",
     "text": [
      " 80%|████████  | 8/10 [00:14<00:03,  1.78s/it]"
     ]
    },
    {
     "name": "stdout",
     "output_type": "stream",
     "text": [
      "Epoch 8: Train Loss: 0.48937782645225525, Test Loss: 0.5476897358894348\n"
     ]
    },
    {
     "name": "stderr",
     "output_type": "stream",
     "text": [
      " 90%|█████████ | 9/10 [00:16<00:01,  1.78s/it]"
     ]
    },
    {
     "name": "stdout",
     "output_type": "stream",
     "text": [
      "Epoch 9: Train Loss: 0.4861034154891968, Test Loss: 0.4984762966632843\n"
     ]
    },
    {
     "name": "stderr",
     "output_type": "stream",
     "text": [
      "100%|██████████| 10/10 [00:17<00:00,  1.78s/it]"
     ]
    },
    {
     "name": "stdout",
     "output_type": "stream",
     "text": [
      "Epoch 10: Train Loss: 0.4483572244644165, Test Loss: 0.42316755652427673\n"
     ]
    },
    {
     "name": "stderr",
     "output_type": "stream",
     "text": [
      "\n"
     ]
    }
   ],
   "source": [
    "lr = 1\n",
    "epochs = 10\n",
    "\n",
    "for epoch in tqdm(range(epochs)):\n",
    "    flag = True\n",
    "    for X, Y in train_loader:\n",
    "        if flag:\n",
    "            U = (model(X) - Y.reshape(-1, 1))\n",
    "            flag = False\n",
    "        # 增广模型中的参数\n",
    "        theta_0 = torch.cat([model.W.flatten(), model.a.flatten()]).reshape(-1, 1)\n",
    "        #=====Jacobian 矩阵=========================\n",
    "        J = G_modified(X, model)\n",
    "        #===========================================\n",
    "        # 转置矩阵 J_T\n",
    "        with torch.no_grad():\n",
    "            J_T = J.T\n",
    "            # 使用Cholesky分解来替代直接逆矩阵计算\n",
    "            A = torch.eye(theta_0.numel(), device=device) + 2 * lr * torch.mm(J_T, J)\n",
    "            # 进行 Cholesky 分解\n",
    "            L = torch.linalg.cholesky(A)\n",
    "            # 计算 A 的逆\n",
    "            A_inv = torch.cholesky_inverse(L)\n",
    "            # 更新 theta_1\n",
    "            theta_1 = theta_0 - 2 * lr * torch.mm(torch.mm(A_inv, J_T), U)\n",
    "            # 计算更新量\n",
    "            U -= (2 * lr * (J @ A_inv) @ J_T) @ U\n",
    "            # 更新参数\n",
    "            model.W.data = theta_1[:model.W.numel()].reshape(model.W.shape)\n",
    "            model.a.data = theta_1[model.W.numel():].reshape(model.a.shape) \n",
    "    validate(model, X_train, Y_train, X_test, Y_test, epoch, is_recoard=False)"
   ]
  }
 ],
 "metadata": {
  "kernelspec": {
   "display_name": "NumericalMethod",
   "language": "python",
   "name": "python3"
  },
  "language_info": {
   "codemirror_mode": {
    "name": "ipython",
    "version": 3
   },
   "file_extension": ".py",
   "mimetype": "text/x-python",
   "name": "python",
   "nbconvert_exporter": "python",
   "pygments_lexer": "ipython3",
   "version": "3.12.4"
  }
 },
 "nbformat": 4,
 "nbformat_minor": 2
}
