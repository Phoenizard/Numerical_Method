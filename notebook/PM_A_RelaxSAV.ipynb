{
 "cells": [
  {
   "cell_type": "code",
   "execution_count": 1,
   "metadata": {},
   "outputs": [],
   "source": [
    "import torch\n",
    "import torch.nn as nn\n",
    "import torch.optim as optim\n",
    "from torch.utils.data import DataLoader, TensorDataset\n",
    "import numpy as np\n",
    "import matplotlib.pyplot as plt\n",
    "import wandb"
   ]
  },
  {
   "cell_type": "code",
   "execution_count": 2,
   "metadata": {},
   "outputs": [
    {
     "data": {
      "text/plain": [
       "device(type='cuda')"
      ]
     },
     "execution_count": 2,
     "metadata": {},
     "output_type": "execute_result"
    }
   ],
   "source": [
    "device = torch.device('cuda' if torch.cuda.is_available() else 'cpu')\n",
    "device"
   ]
  },
  {
   "cell_type": "code",
   "execution_count": 3,
   "metadata": {},
   "outputs": [
    {
     "data": {
      "text/plain": [
       "(torch.Size([8000, 41]),\n",
       " torch.Size([8000]),\n",
       " torch.Size([2000, 41]),\n",
       " torch.Size([2000]))"
      ]
     },
     "execution_count": 3,
     "metadata": {},
     "output_type": "execute_result"
    }
   ],
   "source": [
    "X_train, Y_train, X_test, Y_test = torch.load('./data/dataset_2_40D.pt')\n",
    "\n",
    "# 将数据移动到适当的设备\n",
    "X_train = X_train.to(device)\n",
    "Y_train = Y_train.to(device)\n",
    "X_test = X_test.to(device)\n",
    "Y_test = Y_test.to(device)\n",
    "\n",
    "X_train.shape, Y_train.shape, X_test.shape, Y_test.shape"
   ]
  },
  {
   "cell_type": "code",
   "execution_count": 4,
   "metadata": {},
   "outputs": [
    {
     "name": "stdout",
     "output_type": "stream",
     "text": [
      "torch.Size([64, 41]) torch.Size([64])\n"
     ]
    }
   ],
   "source": [
    "# 使用 DataLoader 进行批处理\n",
    "l = 64\n",
    "train_dataset = TensorDataset(X_train, Y_train)\n",
    "train_loader = DataLoader(train_dataset, batch_size=l, shuffle=True)\n",
    "\n",
    "# 打印第一个批次的大小\n",
    "for x, y in train_loader:\n",
    "    print(x.shape, y.shape)\n",
    "    break"
   ]
  },
  {
   "cell_type": "code",
   "execution_count": 5,
   "metadata": {},
   "outputs": [],
   "source": [
    "D = 40\n",
    "m = 100"
   ]
  },
  {
   "cell_type": "code",
   "execution_count": 6,
   "metadata": {},
   "outputs": [
    {
     "data": {
      "text/plain": [
       "(8.883296012878418, 13.783705711364746)"
      ]
     },
     "execution_count": 6,
     "metadata": {},
     "output_type": "execute_result"
    }
   ],
   "source": [
    "class Model(nn.Module):\n",
    "    def __init__(self, input, hidden_layer, output):\n",
    "        super(Model, self).__init__()\n",
    "        self.relu = nn.ReLU()\n",
    "        self.hidden_dim = hidden_layer\n",
    "        self.W = nn.Parameter(torch.rand(input, hidden_layer, device=device), requires_grad=True)\n",
    "        # HE初始化\n",
    "        nn.init.kaiming_normal_(self.W, mode='fan_in', nonlinearity='relu')\n",
    "        self.a = nn.Parameter(torch.rand(hidden_layer, output, device=device), requires_grad=True)\n",
    "        nn.init.kaiming_normal_(self.a, mode='fan_in', nonlinearity='relu')\n",
    "        \n",
    "    def forward(self, x):\n",
    "        # print(x.shape)\n",
    "        z1 = self.relu(torch.mm(x, self.W))\n",
    "        # print(z1.shape)\n",
    "        z2 = torch.mm(z1, self.a) / self.hidden_dim\n",
    "        return z2\n",
    "\n",
    "    def loss(self, y_pred, y_true):\n",
    "        return (y_pred - y_true.reshape(y_pred.shape)) ** 2\n",
    "\n",
    "model = Model(D + 1, m, 1).to(device)\n",
    "\n",
    "# 计算模型W和a的Norm\n",
    "def get_norm(model):\n",
    "    return torch.norm(model.W).item(), torch.norm(model.a).item()\n",
    "\n",
    "get_norm(model)"
   ]
  },
  {
   "cell_type": "code",
   "execution_count": 7,
   "metadata": {},
   "outputs": [],
   "source": [
    "epochs = 10000\n",
    "lr = 1\n",
    "C = 1\n",
    "_lambda = 4\n",
    "r = 0\n",
    "epsilon = 1e-8\n",
    "beta_1 = 0.9\n",
    "beta_2 = 0.999\n",
    "m = 0\n",
    "v = 0\n",
    "# Define the relax parameters \n",
    "r_wave = 0\n",
    "r_hat = 0\n",
    "r = 0\n",
    "a = 0\n",
    "b = 0\n",
    "c = 0\n",
    "ellipsis_0 = 0\n",
    "ratio_n = 0.99\n",
    "\n",
    "\n",
    "train_losses = []\n",
    "test_losses = []"
   ]
  },
  {
   "cell_type": "code",
   "execution_count": 8,
   "metadata": {},
   "outputs": [],
   "source": [
    "config = {\n",
    "    'learning_rate': lr,\n",
    "    'batch_size': l,\n",
    "    'epochs': epochs,\n",
    "    'hidden_layer': m,\n",
    "    'input': D + 1,\n",
    "    'output': 1,\n",
    "    'optimizer': 'Adam_Relax_SAV',\n",
    "    'Approx Method': 'PM',\n",
    "    'C': C,\n",
    "    '_lambda': _lambda,\n",
    "    'r': r,\n",
    "    'epsilon': epsilon,\n",
    "    'ratio_n': 0.99\n",
    "}"
   ]
  },
  {
   "cell_type": "code",
   "execution_count": 9,
   "metadata": {},
   "outputs": [
    {
     "name": "stderr",
     "output_type": "stream",
     "text": [
      "Failed to detect the name of this notebook, you can set it manually with the WANDB_NOTEBOOK_NAME environment variable to enable code saving.\n",
      "\u001b[34m\u001b[1mwandb\u001b[0m: Currently logged in as: \u001b[33mpheonizard\u001b[0m (\u001b[33mpheonizard-university-of-nottingham\u001b[0m). Use \u001b[1m`wandb login --relogin`\u001b[0m to force relogin\n"
     ]
    }
   ],
   "source": [
    "import datetime\n",
    "\n",
    "date = datetime.datetime.now().strftime(\"%m%d%H%M\")\n",
    "wandb.init(project='Numerical Method', name=f\"PM_A_RelaxSAV_Example_2_{date}\", config=config)"
   ]
  },
  {
   "cell_type": "code",
   "execution_count": null,
   "metadata": {},
   "outputs": [],
   "source": [
    "for epoch in range(epochs):\n",
    "    cnt = 0\n",
    "    m_a, m_w, v = 0, 0, 0\n",
    "    for X, Y in train_loader:\n",
    "        loss = model.loss(model(X), Y).mean()\n",
    "        if cnt == 0:\n",
    "            r = torch.sqrt(torch.tensor(loss + C, device=device))\n",
    "        loss.backward()\n",
    "        with torch.no_grad():\n",
    "            #=========Nonlinear Term==========\n",
    "            N_a_init = model.a.grad\n",
    "            N_w_init = model.W.grad\n",
    "            m_a = beta_1 * m_a + (1 - beta_1) * N_a_init\n",
    "            m_w = beta_1 * m_w + (1 - beta_1) * N_w_init\n",
    "            v = beta_2 * v + (1 - beta_2) * (torch.norm(N_a_init) ** 2 + torch.norm(N_w_init) ** 2)\n",
    "            m_a_hat = m_a / (1 - beta_1 ** (cnt + 1))\n",
    "            m_w_hat = m_w / (1 - beta_1 ** (cnt + 1))\n",
    "            v_hat = v / (1 - beta_2 ** (cnt + 1))\n",
    "            N_a = m_a_hat\n",
    "            N_w = m_w_hat\n",
    "            #=========Time Step Update========\n",
    "            adaptive_lr = lr / (torch.sqrt(v_hat) + epsilon)\n",
    "            #=========SAV Update========== \n",
    "            theta_a_1 = model.a.clone()\n",
    "            theta_w_1 = model.W.clone()\n",
    "            theta_a_2 = - adaptive_lr * N_a / (torch.sqrt(loss + C) * (1 + adaptive_lr * _lambda))\n",
    "            theta_w_2 = - adaptive_lr * N_w / (torch.sqrt(loss + C) * (1 + adaptive_lr * _lambda))\n",
    "            r_wave = r / (1 + adaptive_lr * (torch.sum(N_a * (N_a / (1 + adaptive_lr * _lambda))) + torch.sum(N_w * (N_w) / (1 + adaptive_lr * _lambda))) / (2 * (loss + C)))\n",
    "            model.a += r_wave.item() * theta_a_2\n",
    "            model.W += r_wave.item() * theta_w_2\n",
    "            model.a.grad.zero_()\n",
    "            model.W.grad.zero_()\n",
    "            #=========Relax Update==========\n",
    "            tmp_loss = model.loss(model(X), Y).mean()\n",
    "            r_hat = torch.sqrt(tmp_loss + C)\n",
    "            a = (r_wave - r_hat) ** 2\n",
    "            b = 2 * r_hat * (r_wave - r_hat)\n",
    "            c = r_hat ** 2 - r_wave ** 2 - ratio_n * (torch.norm(model.a - theta_a_1) ** 2 + torch.norm(model.W - theta_w_1) ** 2) / adaptive_lr\n",
    "            if a == 0:\n",
    "                # 为什么会出现a=0的情况\n",
    "                print('a == 0')\n",
    "                ellipsis_0 = 1\n",
    "            elif (b ** 2 - 4 * a * c) < 0:\n",
    "                ellipsis_0 = 1\n",
    "                print('b^2 - 4ac < 0')\n",
    "            else: \n",
    "                ellipsis_0 = max((-b - torch.sqrt(b ** 2 - 4 * a * c)) / (2 * a), 0)\n",
    "            r = ellipsis_0 * r_wave + (1 - ellipsis_0) * r_hat\n",
    "            if torch.isnan(r_wave) or torch.isnan(r_hat) or torch.isnan(a) or torch.isnan(b) or torch.isnan(c):\n",
    "                raise ValueError('nan')\n",
    "            cnt += 1\n",
    "\n",
    "    with torch.no_grad():\n",
    "        train_loss = model.loss(model(X_train), Y_train).mean()\n",
    "        test_loss = model.loss(model(X_test), Y_test).mean()\n",
    "        train_losses.append(train_loss)\n",
    "        test_losses.append(test_loss)\n",
    "        norm = get_norm(model)\n",
    "        wandb.log({'epoch': epoch + 1,\n",
    "                   'train_loss': train_loss, \n",
    "                   'test_loss': test_loss,\n",
    "                   'norm_W': norm[0],\n",
    "                   'norm_a': norm[1],\n",
    "                   'accuracy': 1 - test_loss,\n",
    "                   'r': r.item(),\n",
    "                   'r_wave': r_wave.item(),\n",
    "                   'r_hat': r_hat.item(),\n",
    "                   'ellipsis': ellipsis_0,\n",
    "                   'adaptive_lr': adaptive_lr.item()})\n",
    "        print(f'epoch {epoch + 1}, loss {train_loss:.6f}, test loss {test_loss:.6f}')"
   ]
  },
  {
   "cell_type": "code",
   "execution_count": null,
   "metadata": {},
   "outputs": [],
   "source": [
    "wandb.finish()"
   ]
  }
 ],
 "metadata": {
  "kernelspec": {
   "display_name": "Numerical_Method",
   "language": "python",
   "name": "python3"
  },
  "language_info": {
   "codemirror_mode": {
    "name": "ipython",
    "version": 3
   },
   "file_extension": ".py",
   "mimetype": "text/x-python",
   "name": "python",
   "nbconvert_exporter": "python",
   "pygments_lexer": "ipython3",
   "version": "3.8.10"
  }
 },
 "nbformat": 4,
 "nbformat_minor": 2
}
