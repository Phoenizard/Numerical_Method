{
 "cells": [
  {
   "cell_type": "code",
   "execution_count": 1,
   "metadata": {},
   "outputs": [],
   "source": [
    "import torch\n",
    "import torch.nn as nn\n",
    "import torch.optim as optim\n",
    "from torch.utils.data import DataLoader, TensorDataset\n",
    "import numpy as np\n",
    "import wandb"
   ]
  },
  {
   "cell_type": "code",
   "execution_count": 2,
   "metadata": {},
   "outputs": [
    {
     "data": {
      "text/plain": [
       "device(type='cuda')"
      ]
     },
     "execution_count": 2,
     "metadata": {},
     "output_type": "execute_result"
    }
   ],
   "source": [
    "device = torch.device('cuda' if torch.cuda.is_available() else 'cpu')\n",
    "device"
   ]
  },
  {
   "cell_type": "code",
   "execution_count": 3,
   "metadata": {},
   "outputs": [
    {
     "name": "stderr",
     "output_type": "stream",
     "text": [
      "/tmp/ipykernel_10504/3136768161.py:1: FutureWarning: You are using `torch.load` with `weights_only=False` (the current default value), which uses the default pickle module implicitly. It is possible to construct malicious pickle data which will execute arbitrary code during unpickling (See https://github.com/pytorch/pytorch/blob/main/SECURITY.md#untrusted-models for more details). In a future release, the default value for `weights_only` will be flipped to `True`. This limits the functions that could be executed during unpickling. Arbitrary objects will no longer be allowed to be loaded via this mode unless they are explicitly allowlisted by the user via `torch.serialization.add_safe_globals`. We recommend you start setting `weights_only=True` for any use case where you don't have full control of the loaded file. Please open an issue on GitHub for any issues related to this experimental feature.\n",
      "  X_train, Y_train, X_test, Y_test = torch.load('../data/dataset_3_20D.pt')\n"
     ]
    },
    {
     "data": {
      "text/plain": [
       "(torch.Size([80000, 21]),\n",
       " torch.Size([80000]),\n",
       " torch.Size([20000, 21]),\n",
       " torch.Size([20000]))"
      ]
     },
     "execution_count": 3,
     "metadata": {},
     "output_type": "execute_result"
    }
   ],
   "source": [
    "X_train, Y_train, X_test, Y_test = torch.load('../data/dataset_3_20D.pt')\n",
    "\n",
    "# 将数据移动到适当的设备\n",
    "X_train = X_train.to(device)\n",
    "Y_train = Y_train.to(device)\n",
    "X_test = X_test.to(device)\n",
    "Y_test = Y_test.to(device)\n",
    "\n",
    "X_train.shape, Y_train.shape, X_test.shape, Y_test.shape"
   ]
  },
  {
   "cell_type": "code",
   "execution_count": 4,
   "metadata": {},
   "outputs": [
    {
     "name": "stdout",
     "output_type": "stream",
     "text": [
      "torch.Size([256, 21]) torch.Size([256])\n"
     ]
    }
   ],
   "source": [
    "# 使用 DataLoader 进行批处理\n",
    "l = 256\n",
    "train_dataset = TensorDataset(X_train, Y_train)\n",
    "train_loader = DataLoader(train_dataset, batch_size=l, shuffle=True)\n",
    "\n",
    "# 打印第一个批次的大小\n",
    "for x, y in train_loader:\n",
    "    print(x.shape, y.shape)\n",
    "    break"
   ]
  },
  {
   "cell_type": "code",
   "execution_count": 5,
   "metadata": {},
   "outputs": [],
   "source": [
    "D = 20\n",
    "m = 10000"
   ]
  },
  {
   "cell_type": "code",
   "execution_count": 6,
   "metadata": {},
   "outputs": [
    {
     "data": {
      "text/plain": [
       "(6.495305061340332, 141.2490997314453)"
      ]
     },
     "execution_count": 6,
     "metadata": {},
     "output_type": "execute_result"
    }
   ],
   "source": [
    "class Model(nn.Module):\n",
    "    def __init__(self, input, hidden_layer, output):\n",
    "        super(Model, self).__init__()\n",
    "        self.relu = nn.ReLU()\n",
    "        self.hidden_dim = hidden_layer\n",
    "        self.W = nn.Parameter(torch.rand(input, hidden_layer, device=device), requires_grad=True)\n",
    "        # HE初始化\n",
    "        nn.init.kaiming_normal_(self.W, mode='fan_in', nonlinearity='relu')\n",
    "        self.a = nn.Parameter(torch.rand(hidden_layer, output, device=device), requires_grad=True)\n",
    "        nn.init.kaiming_normal_(self.a, mode='fan_in', nonlinearity='relu')\n",
    "        \n",
    "    def forward(self, x):\n",
    "        # print(x.shape)\n",
    "        z1 = self.relu(torch.mm(x, self.W))\n",
    "        # print(z1.shape)\n",
    "        z2 = torch.mm(z1, self.a) / self.hidden_dim\n",
    "        return z2\n",
    "\n",
    "    def loss(self, y_pred, y_true):\n",
    "        return (y_pred - y_true.reshape(y_pred.shape)) ** 2\n",
    "\n",
    "model = Model(D + 1, m, 1).to(device)\n",
    "\n",
    "# 计算模型W和a的Norm\n",
    "def get_norm(model):\n",
    "    return torch.norm(model.W).item(), torch.norm(model.a).item()\n",
    "\n",
    "get_norm(model)"
   ]
  },
  {
   "cell_type": "code",
   "execution_count": 7,
   "metadata": {},
   "outputs": [],
   "source": [
    "epochs = 10000\n",
    "lr = 1\n",
    "C = 100\n",
    "_lambda = 4\n",
    "r = 0\n",
    "epsilon = 1e-8\n",
    "beta_1 = 0.9\n",
    "beta_2 = 0.999\n",
    "# Define the relax parameters \n",
    "r_wave = 0\n",
    "r_hat = 0\n",
    "r = 0\n",
    "a = 0\n",
    "b = 0\n",
    "c = 0\n",
    "ellipsis_0 = 0\n",
    "ratio_n = 0.99\n",
    "\n",
    "\n",
    "train_losses = []\n",
    "test_losses = []"
   ]
  },
  {
   "cell_type": "code",
   "execution_count": 8,
   "metadata": {},
   "outputs": [],
   "source": [
    "config = {\n",
    "    'learning_rate': lr,\n",
    "    'batch_size': l,\n",
    "    'epochs': epochs,\n",
    "    'hidden_layer': m,\n",
    "    'input': D + 1,\n",
    "    'output': 1,\n",
    "    'optimizer': 'Adam_Relax_SAV',\n",
    "    'Approx Method': 'PM',\n",
    "    'C': C,\n",
    "    '_lambda': _lambda,\n",
    "    'r': r,\n",
    "    'epsilon': epsilon,\n",
    "    'ratio_n': 0.99\n",
    "}"
   ]
  },
  {
   "cell_type": "code",
   "execution_count": 9,
   "metadata": {},
   "outputs": [
    {
     "name": "stderr",
     "output_type": "stream",
     "text": [
      "Failed to detect the name of this notebook, you can set it manually with the WANDB_NOTEBOOK_NAME environment variable to enable code saving.\n",
      "\u001b[34m\u001b[1mwandb\u001b[0m: Currently logged in as: \u001b[33mpheonizard\u001b[0m (\u001b[33mpheonizard-university-of-nottingham\u001b[0m). Use \u001b[1m`wandb login --relogin`\u001b[0m to force relogin\n"
     ]
    },
    {
     "data": {
      "text/html": [
       "Tracking run with wandb version 0.17.6"
      ],
      "text/plain": [
       "<IPython.core.display.HTML object>"
      ]
     },
     "metadata": {},
     "output_type": "display_data"
    },
    {
     "data": {
      "text/html": [
       "Run data is saved locally in <code>/root/Workspace/Numerical_Method/notebook/wandb/run-20240815_204658-4dmwwofl</code>"
      ],
      "text/plain": [
       "<IPython.core.display.HTML object>"
      ]
     },
     "metadata": {},
     "output_type": "display_data"
    },
    {
     "data": {
      "text/html": [
       "Syncing run <strong><a href='https://wandb.ai/pheonizard-university-of-nottingham/Numerical%20Method/runs/4dmwwofl' target=\"_blank\">PM_A_RelaxSAV_Example_2_08152046</a></strong> to <a href='https://wandb.ai/pheonizard-university-of-nottingham/Numerical%20Method' target=\"_blank\">Weights & Biases</a> (<a href='https://wandb.me/run' target=\"_blank\">docs</a>)<br/>"
      ],
      "text/plain": [
       "<IPython.core.display.HTML object>"
      ]
     },
     "metadata": {},
     "output_type": "display_data"
    },
    {
     "data": {
      "text/html": [
       " View project at <a href='https://wandb.ai/pheonizard-university-of-nottingham/Numerical%20Method' target=\"_blank\">https://wandb.ai/pheonizard-university-of-nottingham/Numerical%20Method</a>"
      ],
      "text/plain": [
       "<IPython.core.display.HTML object>"
      ]
     },
     "metadata": {},
     "output_type": "display_data"
    },
    {
     "data": {
      "text/html": [
       " View run at <a href='https://wandb.ai/pheonizard-university-of-nottingham/Numerical%20Method/runs/4dmwwofl' target=\"_blank\">https://wandb.ai/pheonizard-university-of-nottingham/Numerical%20Method/runs/4dmwwofl</a>"
      ],
      "text/plain": [
       "<IPython.core.display.HTML object>"
      ]
     },
     "metadata": {},
     "output_type": "display_data"
    },
    {
     "data": {
      "text/html": [
       "<button onClick=\"this.nextSibling.style.display='block';this.style.display='none';\">Display W&B run</button><iframe src='https://wandb.ai/pheonizard-university-of-nottingham/Numerical%20Method/runs/4dmwwofl?jupyter=true' style='border:none;width:100%;height:420px;display:none;'></iframe>"
      ],
      "text/plain": [
       "<wandb.sdk.wandb_run.Run at 0x7f7630456360>"
      ]
     },
     "execution_count": 9,
     "metadata": {},
     "output_type": "execute_result"
    }
   ],
   "source": [
    "import datetime\n",
    "\n",
    "date = datetime.datetime.now().strftime(\"%m%d%H%M\")\n",
    "wandb.init(project='Numerical Method', name=f\"PM_A_RelaxSAV_Example_3_{date}\", config=config)"
   ]
  },
  {
   "cell_type": "code",
   "execution_count": 10,
   "metadata": {},
   "outputs": [
    {
     "name": "stderr",
     "output_type": "stream",
     "text": [
      "/tmp/ipykernel_10504/4111848653.py:7: UserWarning: To copy construct from a tensor, it is recommended to use sourceTensor.clone().detach() or sourceTensor.clone().detach().requires_grad_(True), rather than torch.tensor(sourceTensor).\n",
      "  r = torch.sqrt(torch.tensor(loss + C, device=device))\n"
     ]
    },
    {
     "name": "stdout",
     "output_type": "stream",
     "text": [
      "epoch 1, loss 1.009310, test loss 0.961819\n",
      "epoch 2, loss 1.009192, test loss 0.961703\n",
      "epoch 3, loss 1.009075, test loss 0.961586\n",
      "epoch 4, loss 1.008958, test loss 0.961471\n",
      "epoch 5, loss 1.008841, test loss 0.961355\n",
      "epoch 6, loss 1.008724, test loss 0.961240\n",
      "epoch 7, loss 1.008608, test loss 0.961126\n",
      "epoch 8, loss 1.008492, test loss 0.961011\n",
      "epoch 9, loss 1.008376, test loss 0.960897\n",
      "epoch 10, loss 1.008260, test loss 0.960782\n",
      "epoch 11, loss 1.008145, test loss 0.960668\n",
      "epoch 12, loss 1.008029, test loss 0.960553\n",
      "epoch 13, loss 1.007915, test loss 0.960440\n",
      "epoch 14, loss 1.007800, test loss 0.960326\n",
      "epoch 15, loss 1.007687, test loss 0.960214\n",
      "epoch 16, loss 1.007575, test loss 0.960103\n",
      "epoch 17, loss 1.007465, test loss 0.959993\n",
      "epoch 18, loss 1.007356, test loss 0.959885\n",
      "epoch 19, loss 1.007248, test loss 0.959778\n",
      "epoch 20, loss 1.007143, test loss 0.959673\n",
      "epoch 21, loss 1.007039, test loss 0.959571\n",
      "epoch 22, loss 1.006938, test loss 0.959470\n",
      "epoch 23, loss 1.006838, test loss 0.959371\n",
      "epoch 24, loss 1.006740, test loss 0.959275\n",
      "epoch 25, loss 1.006644, test loss 0.959179\n",
      "epoch 26, loss 1.006550, test loss 0.959086\n",
      "epoch 27, loss 1.006458, test loss 0.958995\n",
      "epoch 28, loss 1.006368, test loss 0.958905\n",
      "epoch 29, loss 1.006279, test loss 0.958818\n",
      "epoch 30, loss 1.006193, test loss 0.958732\n",
      "epoch 31, loss 1.006108, test loss 0.958647\n",
      "epoch 32, loss 1.006024, test loss 0.958565\n",
      "epoch 33, loss 1.005942, test loss 0.958484\n",
      "epoch 34, loss 1.005862, test loss 0.958404\n",
      "epoch 35, loss 1.005783, test loss 0.958327\n",
      "epoch 36, loss 1.005706, test loss 0.958251\n",
      "epoch 37, loss 1.005631, test loss 0.958177\n",
      "epoch 38, loss 1.005557, test loss 0.958104\n",
      "epoch 39, loss 1.005484, test loss 0.958032\n",
      "epoch 40, loss 1.005412, test loss 0.957961\n",
      "epoch 41, loss 1.005342, test loss 0.957892\n",
      "epoch 42, loss 1.005272, test loss 0.957823\n",
      "epoch 43, loss 1.005204, test loss 0.957756\n",
      "epoch 44, loss 1.005137, test loss 0.957690\n",
      "epoch 45, loss 1.005071, test loss 0.957625\n",
      "epoch 46, loss 1.005006, test loss 0.957561\n",
      "epoch 47, loss 1.004942, test loss 0.957498\n",
      "epoch 48, loss 1.004879, test loss 0.957436\n",
      "epoch 49, loss 1.004817, test loss 0.957375\n",
      "epoch 50, loss 1.004755, test loss 0.957315\n",
      "epoch 51, loss 1.004695, test loss 0.957256\n",
      "epoch 52, loss 1.004634, test loss 0.957196\n",
      "epoch 53, loss 1.004575, test loss 0.957138\n",
      "epoch 54, loss 1.004516, test loss 0.957080\n",
      "epoch 55, loss 1.004458, test loss 0.957023\n",
      "epoch 56, loss 1.004400, test loss 0.956966\n",
      "epoch 57, loss 1.004342, test loss 0.956910\n",
      "epoch 58, loss 1.004285, test loss 0.956854\n",
      "epoch 59, loss 1.004229, test loss 0.956798\n",
      "epoch 60, loss 1.004173, test loss 0.956744\n",
      "epoch 61, loss 1.004117, test loss 0.956689\n",
      "epoch 62, loss 1.004062, test loss 0.956636\n",
      "epoch 63, loss 1.004008, test loss 0.956582\n",
      "epoch 64, loss 1.003953, test loss 0.956529\n",
      "epoch 65, loss 1.003899, test loss 0.956476\n",
      "epoch 66, loss 1.003845, test loss 0.956424\n",
      "epoch 67, loss 1.003792, test loss 0.956372\n",
      "epoch 68, loss 1.003739, test loss 0.956320\n",
      "epoch 69, loss 1.003686, test loss 0.956269\n",
      "epoch 70, loss 1.003634, test loss 0.956218\n",
      "epoch 71, loss 1.003582, test loss 0.956167\n",
      "epoch 72, loss 1.003530, test loss 0.956116\n",
      "epoch 73, loss 1.003479, test loss 0.956066\n",
      "epoch 74, loss 1.003427, test loss 0.956016\n",
      "epoch 75, loss 1.003376, test loss 0.955966\n",
      "epoch 76, loss 1.003326, test loss 0.955917\n",
      "epoch 77, loss 1.003275, test loss 0.955868\n",
      "epoch 78, loss 1.003224, test loss 0.955818\n",
      "epoch 79, loss 1.003174, test loss 0.955769\n",
      "epoch 80, loss 1.003124, test loss 0.955721\n",
      "epoch 81, loss 1.003074, test loss 0.955672\n",
      "epoch 82, loss 1.003025, test loss 0.955624\n",
      "epoch 83, loss 1.002975, test loss 0.955575\n",
      "epoch 84, loss 1.002926, test loss 0.955527\n",
      "epoch 85, loss 1.002876, test loss 0.955480\n",
      "epoch 86, loss 1.002827, test loss 0.955432\n",
      "epoch 87, loss 1.002779, test loss 0.955384\n",
      "epoch 88, loss 1.002730, test loss 0.955336\n",
      "epoch 89, loss 1.002681, test loss 0.955289\n",
      "epoch 90, loss 1.002632, test loss 0.955242\n",
      "epoch 91, loss 1.002584, test loss 0.955194\n",
      "epoch 92, loss 1.002536, test loss 0.955147\n",
      "epoch 93, loss 1.002488, test loss 0.955101\n",
      "epoch 94, loss 1.002440, test loss 0.955054\n",
      "epoch 95, loss 1.002392, test loss 0.955008\n",
      "epoch 96, loss 1.002344, test loss 0.954961\n",
      "epoch 97, loss 1.002296, test loss 0.954914\n",
      "epoch 98, loss 1.002249, test loss 0.954868\n",
      "epoch 99, loss 1.002201, test loss 0.954821\n",
      "epoch 100, loss 1.002154, test loss 0.954775\n",
      "epoch 101, loss 1.002106, test loss 0.954729\n",
      "epoch 102, loss 1.002059, test loss 0.954682\n",
      "epoch 103, loss 1.002012, test loss 0.954637\n",
      "epoch 104, loss 1.001965, test loss 0.954591\n",
      "epoch 105, loss 1.001918, test loss 0.954544\n",
      "epoch 106, loss 1.001871, test loss 0.954498\n",
      "epoch 107, loss 1.001824, test loss 0.954453\n",
      "epoch 108, loss 1.001777, test loss 0.954407\n",
      "epoch 109, loss 1.001730, test loss 0.954361\n",
      "epoch 110, loss 1.001684, test loss 0.954316\n",
      "epoch 111, loss 1.001637, test loss 0.954271\n",
      "epoch 112, loss 1.001590, test loss 0.954225\n",
      "epoch 113, loss 1.001544, test loss 0.954180\n",
      "epoch 114, loss 1.001497, test loss 0.954135\n",
      "epoch 115, loss 1.001451, test loss 0.954090\n",
      "epoch 116, loss 1.001405, test loss 0.954045\n",
      "epoch 117, loss 1.001359, test loss 0.953999\n",
      "epoch 118, loss 1.001312, test loss 0.953954\n",
      "epoch 119, loss 1.001266, test loss 0.953910\n",
      "epoch 120, loss 1.001220, test loss 0.953865\n",
      "epoch 121, loss 1.001174, test loss 0.953820\n",
      "epoch 122, loss 1.001128, test loss 0.953775\n",
      "epoch 123, loss 1.001082, test loss 0.953731\n",
      "epoch 124, loss 1.001036, test loss 0.953686\n",
      "epoch 125, loss 1.000990, test loss 0.953641\n",
      "epoch 126, loss 1.000944, test loss 0.953596\n",
      "epoch 127, loss 1.000898, test loss 0.953551\n",
      "epoch 128, loss 1.000852, test loss 0.953507\n",
      "epoch 129, loss 1.000807, test loss 0.953462\n",
      "epoch 130, loss 1.000761, test loss 0.953418\n",
      "epoch 131, loss 1.000715, test loss 0.953374\n",
      "epoch 132, loss 1.000670, test loss 0.953329\n",
      "epoch 133, loss 1.000624, test loss 0.953285\n",
      "epoch 134, loss 1.000578, test loss 0.953240\n",
      "epoch 135, loss 1.000533, test loss 0.953196\n",
      "epoch 136, loss 1.000487, test loss 0.953151\n",
      "epoch 137, loss 1.000441, test loss 0.953107\n",
      "epoch 138, loss 1.000395, test loss 0.953062\n",
      "epoch 139, loss 1.000350, test loss 0.953017\n",
      "epoch 140, loss 1.000304, test loss 0.952973\n",
      "epoch 141, loss 1.000259, test loss 0.952928\n",
      "epoch 142, loss 1.000213, test loss 0.952884\n",
      "epoch 143, loss 1.000168, test loss 0.952840\n",
      "epoch 144, loss 1.000122, test loss 0.952796\n",
      "epoch 145, loss 1.000077, test loss 0.952751\n",
      "epoch 146, loss 1.000031, test loss 0.952707\n",
      "epoch 147, loss 0.999986, test loss 0.952663\n",
      "epoch 148, loss 0.999941, test loss 0.952619\n",
      "epoch 149, loss 0.999896, test loss 0.952574\n",
      "epoch 150, loss 0.999850, test loss 0.952531\n",
      "epoch 151, loss 0.999805, test loss 0.952487\n",
      "epoch 152, loss 0.999760, test loss 0.952442\n",
      "epoch 153, loss 0.999714, test loss 0.952398\n",
      "epoch 154, loss 0.999669, test loss 0.952354\n",
      "epoch 155, loss 0.999624, test loss 0.952310\n",
      "epoch 156, loss 0.999578, test loss 0.952266\n",
      "epoch 157, loss 0.999533, test loss 0.952221\n",
      "epoch 158, loss 0.999488, test loss 0.952177\n",
      "epoch 159, loss 0.999443, test loss 0.952133\n",
      "epoch 160, loss 0.999398, test loss 0.952090\n",
      "epoch 161, loss 0.999353, test loss 0.952045\n",
      "epoch 162, loss 0.999307, test loss 0.952001\n",
      "epoch 163, loss 0.999262, test loss 0.951957\n",
      "epoch 164, loss 0.999217, test loss 0.951913\n",
      "epoch 165, loss 0.999172, test loss 0.951869\n",
      "epoch 166, loss 0.999127, test loss 0.951825\n",
      "epoch 167, loss 0.999082, test loss 0.951781\n",
      "epoch 168, loss 0.999036, test loss 0.951737\n",
      "epoch 169, loss 0.998991, test loss 0.951693\n",
      "epoch 170, loss 0.998946, test loss 0.951649\n",
      "epoch 171, loss 0.998901, test loss 0.951605\n",
      "epoch 172, loss 0.998856, test loss 0.951562\n",
      "epoch 173, loss 0.998811, test loss 0.951518\n",
      "epoch 174, loss 0.998766, test loss 0.951474\n",
      "epoch 175, loss 0.998720, test loss 0.951429\n",
      "epoch 176, loss 0.998675, test loss 0.951385\n",
      "epoch 177, loss 0.998630, test loss 0.951341\n",
      "epoch 178, loss 0.998585, test loss 0.951297\n",
      "epoch 179, loss 0.998540, test loss 0.951253\n",
      "epoch 180, loss 0.998495, test loss 0.951210\n",
      "epoch 181, loss 0.998450, test loss 0.951166\n",
      "epoch 182, loss 0.998404, test loss 0.951122\n",
      "epoch 183, loss 0.998359, test loss 0.951078\n",
      "epoch 184, loss 0.998314, test loss 0.951034\n",
      "epoch 185, loss 0.998269, test loss 0.950990\n",
      "epoch 186, loss 0.998224, test loss 0.950946\n",
      "epoch 187, loss 0.998179, test loss 0.950902\n",
      "epoch 188, loss 0.998134, test loss 0.950858\n",
      "epoch 189, loss 0.998089, test loss 0.950814\n",
      "epoch 190, loss 0.998044, test loss 0.950770\n",
      "epoch 191, loss 0.997999, test loss 0.950726\n",
      "epoch 192, loss 0.997954, test loss 0.950682\n",
      "epoch 193, loss 0.997908, test loss 0.950638\n",
      "epoch 194, loss 0.997863, test loss 0.950594\n",
      "epoch 195, loss 0.997818, test loss 0.950551\n",
      "epoch 196, loss 0.997773, test loss 0.950507\n",
      "epoch 197, loss 0.997728, test loss 0.950463\n",
      "epoch 198, loss 0.997683, test loss 0.950419\n",
      "epoch 199, loss 0.997638, test loss 0.950375\n",
      "epoch 200, loss 0.997593, test loss 0.950332\n",
      "epoch 201, loss 0.997548, test loss 0.950288\n",
      "epoch 202, loss 0.997503, test loss 0.950244\n",
      "epoch 203, loss 0.997458, test loss 0.950200\n",
      "epoch 204, loss 0.997413, test loss 0.950156\n",
      "epoch 205, loss 0.997368, test loss 0.950112\n",
      "epoch 206, loss 0.997323, test loss 0.950068\n",
      "epoch 207, loss 0.997278, test loss 0.950024\n",
      "epoch 208, loss 0.997233, test loss 0.949980\n",
      "epoch 209, loss 0.997188, test loss 0.949937\n",
      "epoch 210, loss 0.997143, test loss 0.949893\n",
      "epoch 211, loss 0.997098, test loss 0.949849\n",
      "epoch 212, loss 0.997053, test loss 0.949804\n",
      "epoch 213, loss 0.997008, test loss 0.949760\n",
      "epoch 214, loss 0.996963, test loss 0.949716\n",
      "epoch 215, loss 0.996918, test loss 0.949672\n",
      "epoch 216, loss 0.996873, test loss 0.949628\n",
      "epoch 217, loss 0.996828, test loss 0.949584\n",
      "epoch 218, loss 0.996783, test loss 0.949540\n",
      "epoch 219, loss 0.996737, test loss 0.949496\n",
      "epoch 220, loss 0.996693, test loss 0.949452\n",
      "epoch 221, loss 0.996647, test loss 0.949408\n",
      "epoch 222, loss 0.996603, test loss 0.949364\n",
      "epoch 223, loss 0.996557, test loss 0.949321\n",
      "epoch 224, loss 0.996512, test loss 0.949277\n",
      "epoch 225, loss 0.996467, test loss 0.949233\n",
      "epoch 226, loss 0.996422, test loss 0.949189\n",
      "epoch 227, loss 0.996377, test loss 0.949145\n",
      "epoch 228, loss 0.996332, test loss 0.949101\n",
      "epoch 229, loss 0.996287, test loss 0.949057\n",
      "epoch 230, loss 0.996242, test loss 0.949013\n",
      "epoch 231, loss 0.996197, test loss 0.948969\n",
      "epoch 232, loss 0.996152, test loss 0.948925\n",
      "epoch 233, loss 0.996107, test loss 0.948881\n",
      "epoch 234, loss 0.996062, test loss 0.948838\n",
      "epoch 235, loss 0.996017, test loss 0.948794\n",
      "epoch 236, loss 0.995971, test loss 0.948750\n",
      "epoch 237, loss 0.995926, test loss 0.948706\n",
      "epoch 238, loss 0.995881, test loss 0.948662\n",
      "epoch 239, loss 0.995836, test loss 0.948618\n",
      "epoch 240, loss 0.995791, test loss 0.948573\n",
      "epoch 241, loss 0.995746, test loss 0.948530\n",
      "epoch 242, loss 0.995700, test loss 0.948485\n",
      "epoch 243, loss 0.995656, test loss 0.948442\n",
      "epoch 244, loss 0.995610, test loss 0.948397\n",
      "epoch 245, loss 0.995565, test loss 0.948354\n",
      "epoch 246, loss 0.995520, test loss 0.948310\n",
      "epoch 247, loss 0.995475, test loss 0.948265\n",
      "epoch 248, loss 0.995430, test loss 0.948221\n",
      "epoch 249, loss 0.995385, test loss 0.948177\n",
      "epoch 250, loss 0.995339, test loss 0.948133\n",
      "epoch 251, loss 0.995294, test loss 0.948089\n",
      "epoch 252, loss 0.995249, test loss 0.948045\n",
      "epoch 253, loss 0.995204, test loss 0.948001\n",
      "epoch 254, loss 0.995159, test loss 0.947957\n",
      "epoch 255, loss 0.995114, test loss 0.947913\n",
      "epoch 256, loss 0.995069, test loss 0.947869\n",
      "epoch 257, loss 0.995023, test loss 0.947825\n",
      "epoch 258, loss 0.994978, test loss 0.947781\n",
      "epoch 259, loss 0.994933, test loss 0.947736\n",
      "epoch 260, loss 0.994887, test loss 0.947692\n",
      "epoch 261, loss 0.994842, test loss 0.947648\n",
      "epoch 262, loss 0.994797, test loss 0.947604\n",
      "epoch 263, loss 0.994751, test loss 0.947559\n",
      "epoch 264, loss 0.994706, test loss 0.947515\n",
      "epoch 265, loss 0.994661, test loss 0.947471\n",
      "epoch 266, loss 0.994615, test loss 0.947427\n",
      "epoch 267, loss 0.994570, test loss 0.947383\n",
      "epoch 268, loss 0.994525, test loss 0.947338\n",
      "epoch 269, loss 0.994480, test loss 0.947294\n",
      "epoch 270, loss 0.994434, test loss 0.947250\n",
      "epoch 271, loss 0.994389, test loss 0.947205\n",
      "epoch 272, loss 0.994343, test loss 0.947161\n",
      "epoch 273, loss 0.994298, test loss 0.947117\n",
      "epoch 274, loss 0.994253, test loss 0.947073\n",
      "epoch 275, loss 0.994207, test loss 0.947028\n",
      "epoch 276, loss 0.994162, test loss 0.946983\n",
      "epoch 277, loss 0.994117, test loss 0.946939\n",
      "epoch 278, loss 0.994071, test loss 0.946895\n",
      "epoch 279, loss 0.994026, test loss 0.946851\n",
      "epoch 280, loss 0.993981, test loss 0.946807\n",
      "epoch 281, loss 0.993935, test loss 0.946763\n",
      "epoch 282, loss 0.993890, test loss 0.946719\n",
      "epoch 283, loss 0.993845, test loss 0.946674\n",
      "epoch 284, loss 0.993799, test loss 0.946630\n",
      "epoch 285, loss 0.993754, test loss 0.946586\n",
      "epoch 286, loss 0.993708, test loss 0.946541\n",
      "epoch 287, loss 0.993663, test loss 0.946497\n",
      "epoch 288, loss 0.993618, test loss 0.946453\n",
      "epoch 289, loss 0.993572, test loss 0.946409\n",
      "epoch 290, loss 0.993527, test loss 0.946365\n",
      "epoch 291, loss 0.993481, test loss 0.946321\n",
      "epoch 292, loss 0.993436, test loss 0.946276\n",
      "epoch 293, loss 0.993391, test loss 0.946232\n",
      "epoch 294, loss 0.993345, test loss 0.946187\n",
      "epoch 295, loss 0.993299, test loss 0.946143\n"
     ]
    },
    {
     "ename": "KeyboardInterrupt",
     "evalue": "",
     "output_type": "error",
     "traceback": [
      "\u001b[0;31m---------------------------------------------------------------------------\u001b[0m",
      "\u001b[0;31mKeyboardInterrupt\u001b[0m                         Traceback (most recent call last)",
      "Cell \u001b[0;32mIn[10], line 4\u001b[0m\n\u001b[1;32m      2\u001b[0m cnt \u001b[38;5;241m=\u001b[39m \u001b[38;5;241m0\u001b[39m\n\u001b[1;32m      3\u001b[0m m_a, m_w, v \u001b[38;5;241m=\u001b[39m \u001b[38;5;241m0\u001b[39m, \u001b[38;5;241m0\u001b[39m, \u001b[38;5;241m0\u001b[39m\n\u001b[0;32m----> 4\u001b[0m \u001b[43m\u001b[49m\u001b[38;5;28;43;01mfor\u001b[39;49;00m\u001b[43m \u001b[49m\u001b[43mX\u001b[49m\u001b[43m,\u001b[49m\u001b[43m \u001b[49m\u001b[43mY\u001b[49m\u001b[43m \u001b[49m\u001b[38;5;129;43;01min\u001b[39;49;00m\u001b[43m \u001b[49m\u001b[43mtrain_loader\u001b[49m\u001b[43m:\u001b[49m\n\u001b[1;32m      5\u001b[0m \u001b[43m    \u001b[49m\u001b[43mloss\u001b[49m\u001b[43m \u001b[49m\u001b[38;5;241;43m=\u001b[39;49m\u001b[43m \u001b[49m\u001b[43mmodel\u001b[49m\u001b[38;5;241;43m.\u001b[39;49m\u001b[43mloss\u001b[49m\u001b[43m(\u001b[49m\u001b[43mmodel\u001b[49m\u001b[43m(\u001b[49m\u001b[43mX\u001b[49m\u001b[43m)\u001b[49m\u001b[43m,\u001b[49m\u001b[43m \u001b[49m\u001b[43mY\u001b[49m\u001b[43m)\u001b[49m\u001b[38;5;241;43m.\u001b[39;49m\u001b[43mmean\u001b[49m\u001b[43m(\u001b[49m\u001b[43m)\u001b[49m\n\u001b[1;32m      6\u001b[0m \u001b[43m    \u001b[49m\u001b[38;5;28;43;01mif\u001b[39;49;00m\u001b[43m \u001b[49m\u001b[43mcnt\u001b[49m\u001b[43m \u001b[49m\u001b[38;5;241;43m==\u001b[39;49m\u001b[43m \u001b[49m\u001b[38;5;241;43m0\u001b[39;49m\u001b[43m:\u001b[49m\n",
      "File \u001b[0;32m~/miniconda3/envs/Numerical_Method/lib/python3.12/site-packages/torch/utils/data/dataloader.py:626\u001b[0m, in \u001b[0;36m_BaseDataLoaderIter.__next__\u001b[0;34m(self)\u001b[0m\n\u001b[1;32m    625\u001b[0m \u001b[38;5;28;01mdef\u001b[39;00m \u001b[38;5;21m__next__\u001b[39m(\u001b[38;5;28mself\u001b[39m) \u001b[38;5;241m-\u001b[39m\u001b[38;5;241m>\u001b[39m Any:\n\u001b[0;32m--> 626\u001b[0m \u001b[43m    \u001b[49m\u001b[38;5;28;43;01mwith\u001b[39;49;00m\u001b[43m \u001b[49m\u001b[43mtorch\u001b[49m\u001b[38;5;241;43m.\u001b[39;49m\u001b[43mautograd\u001b[49m\u001b[38;5;241;43m.\u001b[39;49m\u001b[43mprofiler\u001b[49m\u001b[38;5;241;43m.\u001b[39;49m\u001b[43mrecord_function\u001b[49m\u001b[43m(\u001b[49m\u001b[38;5;28;43mself\u001b[39;49m\u001b[38;5;241;43m.\u001b[39;49m\u001b[43m_profile_name\u001b[49m\u001b[43m)\u001b[49m\u001b[43m:\u001b[49m\n\u001b[1;32m    627\u001b[0m \u001b[43m        \u001b[49m\u001b[38;5;28;43;01mif\u001b[39;49;00m\u001b[43m \u001b[49m\u001b[38;5;28;43mself\u001b[39;49m\u001b[38;5;241;43m.\u001b[39;49m\u001b[43m_sampler_iter\u001b[49m\u001b[43m \u001b[49m\u001b[38;5;129;43;01mis\u001b[39;49;00m\u001b[43m \u001b[49m\u001b[38;5;28;43;01mNone\u001b[39;49;00m\u001b[43m:\u001b[49m\n\u001b[1;32m    628\u001b[0m \u001b[43m            \u001b[49m\u001b[38;5;66;43;03m# TODO(https://github.com/pytorch/pytorch/issues/76750)\u001b[39;49;00m\n\u001b[1;32m    629\u001b[0m \u001b[43m            \u001b[49m\u001b[38;5;28;43mself\u001b[39;49m\u001b[38;5;241;43m.\u001b[39;49m\u001b[43m_reset\u001b[49m\u001b[43m(\u001b[49m\u001b[43m)\u001b[49m\u001b[43m  \u001b[49m\u001b[38;5;66;43;03m# type: ignore[call-arg]\u001b[39;49;00m\n",
      "File \u001b[0;32m~/miniconda3/envs/Numerical_Method/lib/python3.12/site-packages/torch/autograd/profiler.py:693\u001b[0m, in \u001b[0;36mrecord_function.__exit__\u001b[0;34m(self, exc_type, exc_value, traceback)\u001b[0m\n\u001b[1;32m    688\u001b[0m     \u001b[38;5;28mself\u001b[39m\u001b[38;5;241m.\u001b[39mrecord \u001b[38;5;241m=\u001b[39m torch\u001b[38;5;241m.\u001b[39mops\u001b[38;5;241m.\u001b[39mprofiler\u001b[38;5;241m.\u001b[39m_record_function_enter_new(\n\u001b[1;32m    689\u001b[0m         \u001b[38;5;28mself\u001b[39m\u001b[38;5;241m.\u001b[39mname, \u001b[38;5;28mself\u001b[39m\u001b[38;5;241m.\u001b[39margs\n\u001b[1;32m    690\u001b[0m     )\n\u001b[1;32m    691\u001b[0m     \u001b[38;5;28;01mreturn\u001b[39;00m \u001b[38;5;28mself\u001b[39m\n\u001b[0;32m--> 693\u001b[0m \u001b[38;5;28;01mdef\u001b[39;00m \u001b[38;5;21m__exit__\u001b[39m(\u001b[38;5;28mself\u001b[39m, exc_type: Any, exc_value: Any, traceback: Any):\n\u001b[1;32m    694\u001b[0m     \u001b[38;5;28;01mif\u001b[39;00m \u001b[38;5;129;01mnot\u001b[39;00m \u001b[38;5;28mself\u001b[39m\u001b[38;5;241m.\u001b[39mrun_callbacks_on_exit:\n\u001b[1;32m    695\u001b[0m         \u001b[38;5;28;01mreturn\u001b[39;00m\n",
      "\u001b[0;31mKeyboardInterrupt\u001b[0m: "
     ]
    }
   ],
   "source": [
    "for epoch in range(epochs):\n",
    "    cnt = 0\n",
    "    m_a, m_w, v = 0, 0, 0\n",
    "    for X, Y in train_loader:\n",
    "        loss = model.loss(model(X), Y).mean()\n",
    "        if cnt == 0:\n",
    "            r = torch.sqrt(torch.tensor(loss + C, device=device))\n",
    "        loss.backward()\n",
    "        with torch.no_grad():\n",
    "            #=========Nonlinear Term==========\n",
    "            N_a_init = model.a.grad\n",
    "            N_w_init = model.W.grad\n",
    "            m_a = beta_1 * m_a + (1 - beta_1) * N_a_init\n",
    "            m_w = beta_1 * m_w + (1 - beta_1) * N_w_init\n",
    "            v = beta_2 * v + (1 - beta_2) * (torch.norm(N_a_init) ** 2 + torch.norm(N_w_init) ** 2)\n",
    "            m_a_hat = m_a / (1 - beta_1 ** (cnt + 1))\n",
    "            m_w_hat = m_w / (1 - beta_1 ** (cnt + 1))\n",
    "            v_hat = v / (1 - beta_2 ** (cnt + 1))\n",
    "            N_a = m_a_hat\n",
    "            N_w = m_w_hat\n",
    "            #=========Time Step Update========\n",
    "            adaptive_lr = lr / (torch.sqrt(v_hat) + epsilon)\n",
    "            #=========SAV Update========== \n",
    "            theta_a_1 = model.a.clone()\n",
    "            theta_w_1 = model.W.clone()\n",
    "            theta_a_2 = - adaptive_lr * N_a / (torch.sqrt(loss + C) * (1 + adaptive_lr * _lambda))\n",
    "            theta_w_2 = - adaptive_lr * N_w / (torch.sqrt(loss + C) * (1 + adaptive_lr * _lambda))\n",
    "            r_wave = r / (1 + adaptive_lr * (torch.sum(N_a * (N_a / (1 + adaptive_lr * _lambda))) + torch.sum(N_w * (N_w) / (1 + adaptive_lr * _lambda))) / (2 * (loss + C)))\n",
    "            model.a += r_wave.item() * theta_a_2\n",
    "            model.W += r_wave.item() * theta_w_2\n",
    "            model.a.grad.zero_()\n",
    "            model.W.grad.zero_()\n",
    "            #=========Relax Update==========\n",
    "            tmp_loss = model.loss(model(X), Y).mean()\n",
    "            r_hat = torch.sqrt(tmp_loss + C)\n",
    "            a = (r_wave - r_hat) ** 2\n",
    "            b = 2 * r_hat * (r_wave - r_hat)\n",
    "            c = r_hat ** 2 - r_wave ** 2 - ratio_n * (torch.norm(model.a - theta_a_1) ** 2 + torch.norm(model.W - theta_w_1) ** 2) / adaptive_lr\n",
    "            if a == 0:\n",
    "                # 为什么会出现a=0的情况\n",
    "                ellipsis_0 = 0\n",
    "            elif (b ** 2 - 4 * a * c) < 0:\n",
    "                ellipsis_0 = 0\n",
    "                print('b^2 - 4ac < 0')\n",
    "            else: \n",
    "                ellipsis_0 = max((-b - torch.sqrt(b ** 2 - 4 * a * c)) / (2 * a), 0)\n",
    "            r = ellipsis_0 * r_wave + (1 - ellipsis_0) * r_hat\n",
    "            if torch.isnan(r_wave) or torch.isnan(r_hat) or torch.isnan(a) or torch.isnan(b) or torch.isnan(c):\n",
    "                raise ValueError('nan')\n",
    "            cnt += 1\n",
    "\n",
    "    with torch.no_grad():\n",
    "        train_loss = model.loss(model(X_train), Y_train).mean()\n",
    "        test_loss = model.loss(model(X_test), Y_test).mean()\n",
    "        train_losses.append(train_loss)\n",
    "        test_losses.append(test_loss)\n",
    "        norm = get_norm(model)\n",
    "        wandb.log({'epoch': epoch + 1,\n",
    "                   'train_loss': train_loss, \n",
    "                   'test_loss': test_loss,\n",
    "                   'norm_W': norm[0],\n",
    "                   'norm_a': norm[1],\n",
    "                   'accuracy': 1 - test_loss,\n",
    "                   'r': r.item(),\n",
    "                   'r_wave': r_wave.item(),\n",
    "                   'r_hat': r_hat.item(),\n",
    "                   'ellipsis': ellipsis_0,\n",
    "                   'adaptive_lr': adaptive_lr.item()})\n",
    "        print(f'epoch {epoch + 1}, loss {train_loss:.6f}, test loss {test_loss:.6f}')"
   ]
  },
  {
   "cell_type": "code",
   "execution_count": null,
   "metadata": {},
   "outputs": [],
   "source": [
    "wandb.finish()"
   ]
  }
 ],
 "metadata": {
  "kernelspec": {
   "display_name": "Numerical_Method",
   "language": "python",
   "name": "python3"
  },
  "language_info": {
   "codemirror_mode": {
    "name": "ipython",
    "version": 3
   },
   "file_extension": ".py",
   "mimetype": "text/x-python",
   "name": "python",
   "nbconvert_exporter": "python",
   "pygments_lexer": "ipython3",
   "version": "3.12.4"
  }
 },
 "nbformat": 4,
 "nbformat_minor": 2
}
