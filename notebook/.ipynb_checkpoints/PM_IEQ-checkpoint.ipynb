{
 "cells": [
  {
   "cell_type": "code",
   "execution_count": 1,
   "metadata": {},
   "outputs": [
    {
     "data": {
      "text/plain": [
       "device(type='cuda')"
      ]
     },
     "execution_count": 1,
     "metadata": {},
     "output_type": "execute_result"
    }
   ],
   "source": [
    "import torch\n",
    "import torch.nn as nn\n",
    "import torch.optim as optim\n",
    "from torch.utils.data import DataLoader, TensorDataset\n",
    "import numpy as np\n",
    "from tqdm import tqdm\n",
    "import wandb\n",
    "\n",
    "device = torch.device('cuda' if torch.cuda.is_available() else 'cpu')\n",
    "device"
   ]
  },
  {
   "cell_type": "code",
   "execution_count": 2,
   "metadata": {},
   "outputs": [],
   "source": [
    "def G_modified(X, model, device):\n",
    "    # 开始计时\n",
    "    # start = time.time()\n",
    "    \n",
    "    input_dim, m = model.W.shape  # m: 隐藏层神经元数量, input_dim: 输入维度\n",
    "    batch_size = X.shape[0]       # batch_size: 批处理大小\n",
    "    \n",
    "    # 初始化 Jacobian 矩阵 J，大小为 (batch_size, m * (input_dim + 1))\n",
    "    J = torch.zeros(batch_size, m * (input_dim + 1), device=device)\n",
    "    \n",
    "    # 计算所有样本的 <w_i, x> 和 ReLU 激活\n",
    "    relu_input = X @ model.W  # (batch_size, m)\n",
    "    relu_output = torch.relu(relu_input)  # (batch_size, m)\n",
    "    # 计算模型输出\n",
    "    # 对 w_i 的部分并行计算 Jacobian\n",
    "    for j in range(m):\n",
    "        mask = relu_output[:, j] > 0  # 只选择 ReLU 激活大于0的元素\n",
    "        J[:, j*input_dim:(j+1)*input_dim] = (model.a[j] * X * mask.view(-1, 1)) / m\n",
    "    \n",
    "    # 对 a_i 的部分并行计算 Jacobian\n",
    "    J[:, m*input_dim:] = relu_output / m\n",
    "\n",
    "    # 结束计时\n",
    "    # end = time.time()\n",
    "    # print(\"优化后Time: \", end - start)\n",
    "    \n",
    "    return J\n"
   ]
  },
  {
   "cell_type": "code",
   "execution_count": 3,
   "metadata": {},
   "outputs": [
    {
     "name": "stderr",
     "output_type": "stream",
     "text": [
      "/root/miniconda3/lib/python3.10/site-packages/torch/_utils.py:831: UserWarning: TypedStorage is deprecated. It will be removed in the future and UntypedStorage will be the only storage class. This should only matter to you if you are using storages directly.  To access UntypedStorage directly, use tensor.untyped_storage() instead of tensor.storage()\n",
      "  return self.fget.__get__(instance, owner)()\n"
     ]
    }
   ],
   "source": [
    "X_train, Y_train, X_test, Y_test = torch.load('../data/dataset_2_40D.pt', weights_only=True)\n",
    "\n",
    "# 将数据移动到适当的设备\n",
    "X_train = X_train.to(device)\n",
    "Y_train = Y_train.to(device)\n",
    "X_test = X_test.to(device)\n",
    "Y_test = Y_test.to(device)\n",
    "\n",
    "l = 64\n",
    "train_dataset = TensorDataset(X_train, Y_train)\n",
    "train_loader = DataLoader(train_dataset, batch_size=l, shuffle=True)"
   ]
  },
  {
   "cell_type": "code",
   "execution_count": 4,
   "metadata": {},
   "outputs": [],
   "source": [
    "D = 40\n",
    "m = 100\n",
    "\n",
    "class PM_Euler(nn.Module):\n",
    "    def __init__(self, input, hidden_layer, output):\n",
    "        super(PM_Euler, self).__init__()\n",
    "        self.relu = nn.ReLU()\n",
    "        self.hidden_dim = hidden_layer\n",
    "        self.W = nn.Parameter(torch.rand(input, hidden_layer, device=device), requires_grad=True)\n",
    "        # HE初始化\n",
    "        nn.init.kaiming_normal_(self.W, mode='fan_in', nonlinearity='relu')\n",
    "        self.a = nn.Parameter(torch.rand(hidden_layer, output, device=device), requires_grad=True)\n",
    "        nn.init.kaiming_normal_(self.a, mode='fan_in', nonlinearity='relu')\n",
    "\n",
    "    def forward(self, x):\n",
    "        z1 = self.relu(torch.mm(x, self.W))\n",
    "        z2 = torch.mm(z1, self.a) / self.hidden_dim\n",
    "        return z2\n",
    "\n",
    "    def loss(self, y_pred, y_true):\n",
    "        return (y_pred - y_true.reshape(y_pred.shape)) ** 2\n",
    "\n",
    "        # 计算模型W和a的Norm\n",
    "    def get_norm(self):\n",
    "        return [torch.norm(self.W).item(), torch.norm(self.a).item()]"
   ]
  },
  {
   "cell_type": "code",
   "execution_count": 5,
   "metadata": {},
   "outputs": [],
   "source": [
    "epochs = 10000\n",
    "lr = 1\n",
    "\n",
    "train_losses = []\n",
    "test_losses = []"
   ]
  },
  {
   "cell_type": "code",
   "execution_count": 6,
   "metadata": {},
   "outputs": [
    {
     "ename": "AttributeError",
     "evalue": "module 'wandb' has no attribute 'init'",
     "output_type": "error",
     "traceback": [
      "\u001b[0;31m---------------------------------------------------------------------------\u001b[0m",
      "\u001b[0;31mAttributeError\u001b[0m                            Traceback (most recent call last)",
      "Cell \u001b[0;32mIn[6], line 14\u001b[0m\n\u001b[1;32m     11\u001b[0m \u001b[38;5;28;01mimport\u001b[39;00m \u001b[38;5;21;01mdatetime\u001b[39;00m\n\u001b[1;32m     13\u001b[0m date \u001b[38;5;241m=\u001b[39m datetime\u001b[38;5;241m.\u001b[39mdatetime\u001b[38;5;241m.\u001b[39mnow()\u001b[38;5;241m.\u001b[39mstrftime(\u001b[38;5;124m\"\u001b[39m\u001b[38;5;124m%\u001b[39m\u001b[38;5;124mm\u001b[39m\u001b[38;5;132;01m%d\u001b[39;00m\u001b[38;5;124m%\u001b[39m\u001b[38;5;124mH\u001b[39m\u001b[38;5;124m%\u001b[39m\u001b[38;5;124mM\u001b[39m\u001b[38;5;124m\"\u001b[39m)\n\u001b[0;32m---> 14\u001b[0m \u001b[43mwandb\u001b[49m\u001b[38;5;241;43m.\u001b[39;49m\u001b[43minit\u001b[49m(project\u001b[38;5;241m=\u001b[39m\u001b[38;5;124m'\u001b[39m\u001b[38;5;124mNumerical Method\u001b[39m\u001b[38;5;124m'\u001b[39m, name\u001b[38;5;241m=\u001b[39m\u001b[38;5;124mf\u001b[39m\u001b[38;5;124m\"\u001b[39m\u001b[38;5;124mPM_IEQ_Example_2_\u001b[39m\u001b[38;5;132;01m{\u001b[39;00mdate\u001b[38;5;132;01m}\u001b[39;00m\u001b[38;5;124m\"\u001b[39m, config\u001b[38;5;241m=\u001b[39mconfig, notes\u001b[38;5;241m=\u001b[39m\u001b[38;5;124m\"\u001b[39m\u001b[38;5;124mIEQ modified lr with lr / batch_size\u001b[39m\u001b[38;5;124m\"\u001b[39m)\n",
      "\u001b[0;31mAttributeError\u001b[0m: module 'wandb' has no attribute 'init'"
     ]
    }
   ],
   "source": [
    "config = {\n",
    "    'learning_rate': lr,\n",
    "    'batch_size': l,\n",
    "    'epochs': epochs,\n",
    "    'hidden_layer': m,\n",
    "    'input': D + 1,\n",
    "    'output': 1,\n",
    "    'optimizer': 'IEQ'\n",
    "}\n",
    "\n",
    "import datetime\n",
    "\n",
    "date = datetime.datetime.now().strftime(\"%m%d%H%M\")\n",
    "wandb.init(project='Numerical Method', name=f\"PM_IEQ_Example_2_{date}\", config=config, notes=\"IEQ modified lr with lr / batch_size\")"
   ]
  },
  {
   "cell_type": "code",
   "execution_count": 7,
   "metadata": {},
   "outputs": [
    {
     "name": "stderr",
     "output_type": "stream",
     "text": [
      "  7%|▋         | 680/10000 [20:24<4:39:39,  1.80s/it]\n"
     ]
    },
    {
     "ename": "KeyboardInterrupt",
     "evalue": "",
     "output_type": "error",
     "traceback": [
      "\u001b[0;31m---------------------------------------------------------------------------\u001b[0m",
      "\u001b[0;31mKeyboardInterrupt\u001b[0m                         Traceback (most recent call last)",
      "Cell \u001b[0;32mIn[7], line 15\u001b[0m\n\u001b[1;32m     13\u001b[0m \u001b[38;5;66;03m# 计算量A，A=I + 2lr(J^T)J\u001b[39;00m\n\u001b[1;32m     14\u001b[0m A \u001b[38;5;241m=\u001b[39m torch\u001b[38;5;241m.\u001b[39meye(theta_0\u001b[38;5;241m.\u001b[39mnumel(), device\u001b[38;5;241m=\u001b[39mdevice) \u001b[38;5;241m+\u001b[39m \u001b[38;5;241m2\u001b[39m \u001b[38;5;241m*\u001b[39m (lr \u001b[38;5;241m/\u001b[39m l) \u001b[38;5;241m*\u001b[39m torch\u001b[38;5;241m.\u001b[39mmm(J_T, J)\n\u001b[0;32m---> 15\u001b[0m L \u001b[38;5;241m=\u001b[39m \u001b[43mtorch\u001b[49m\u001b[38;5;241;43m.\u001b[39;49m\u001b[43mlinalg\u001b[49m\u001b[38;5;241;43m.\u001b[39;49m\u001b[43mcholesky\u001b[49m\u001b[43m(\u001b[49m\u001b[43mA\u001b[49m\u001b[43m)\u001b[49m\n\u001b[1;32m     16\u001b[0m A_inv \u001b[38;5;241m=\u001b[39m torch\u001b[38;5;241m.\u001b[39mcholesky_inverse(L)\n\u001b[1;32m     17\u001b[0m theta_1 \u001b[38;5;241m=\u001b[39m theta_0 \u001b[38;5;241m-\u001b[39m \u001b[38;5;241m2\u001b[39m \u001b[38;5;241m*\u001b[39m (lr \u001b[38;5;241m/\u001b[39m l) \u001b[38;5;241m*\u001b[39m torch\u001b[38;5;241m.\u001b[39mmm(torch\u001b[38;5;241m.\u001b[39mmm(A_inv, J_T), U)\n",
      "\u001b[0;31mKeyboardInterrupt\u001b[0m: "
     ]
    }
   ],
   "source": [
    "model = PM_Euler(D + 1, m, 1).to(device)\n",
    "\n",
    "for epoch in tqdm(range(epochs)):\n",
    "    flag = True\n",
    "    for X, Y in train_loader:\n",
    "        if flag:\n",
    "            U = (model.forward(X) - Y.reshape(-1, 1))\n",
    "            flag = False\n",
    "        J = G_modified(X, model, device)\n",
    "        with torch.no_grad():\n",
    "            theta_0 = torch.cat([model.W.flatten(), model.a.flatten()]).reshape(-1, 1)\n",
    "            J_T = J.T\n",
    "            # 计算量A，A=I + 2lr(J^T)J\n",
    "            A = torch.eye(theta_0.numel(), device=device) + 2 * (lr / l) * torch.mm(J_T, J)\n",
    "            L = torch.linalg.cholesky(A)\n",
    "            A_inv = torch.cholesky_inverse(L)\n",
    "            theta_1 = theta_0 - 2 * (lr / l) * torch.mm(torch.mm(A_inv, J_T), U)\n",
    "            model.W.data = theta_1[:(D + 1) * m].reshape(D + 1, m)\n",
    "            model.a.data = theta_1[(D + 1) * m:].reshape(m, 1)\n",
    "            U = (torch.eye(U.numel(), device=device) - 2 * (lr / l) * torch.mm(J, torch.mm(A_inv, J_T))) @ U \n",
    "            # wandb.log({'U_norm': torch.norm(U).item()})\n",
    "    with torch.no_grad():\n",
    "        train_loss = model.loss(model(X_train), Y_train).mean()\n",
    "        test_loss = model.loss(model(X_test), Y_test).mean()\n",
    "        train_losses.append(train_loss)\n",
    "        test_losses.append(test_loss)\n",
    "        norm = model.get_norm()\n",
    "        wandb.log({'epoch': epoch + 1,\n",
    "                   'train_loss': train_loss, \n",
    "                   'test_loss': test_loss,\n",
    "                   'norm_W': norm[0],\n",
    "                   'norm_a': norm[1],\n",
    "                   'accuracy': 1 - test_loss})\n",
    "        # print(f'epoch {epoch + 1}, loss {train_loss:.8f}, test loss {test_loss:.8f}')"
   ]
  },
  {
   "cell_type": "code",
   "execution_count": 8,
   "metadata": {},
   "outputs": [
    {
     "data": {
      "text/html": [
       "<style>\n",
       "    table.wandb td:nth-child(1) { padding: 0 10px; text-align: left ; width: auto;} td:nth-child(2) {text-align: left ; width: 100%}\n",
       "    .wandb-row { display: flex; flex-direction: row; flex-wrap: wrap; justify-content: flex-start; width: 100% }\n",
       "    .wandb-col { display: flex; flex-direction: column; flex-basis: 100%; flex: 1; padding: 10px; }\n",
       "    </style>\n",
       "<div class=\"wandb-row\"><div class=\"wandb-col\"><h3>Run history:</h3><br/><table class=\"wandb\"><tr><td>accuracy</td><td>▁▁▂▁▁▂▂▂▂▂▂▃▃▃▄▄▄▅▅▅▆▆▆▆▆▆▆▆▇▇▇▇▇▇▇▇████</td></tr><tr><td>epoch</td><td>▁▁▁▁▂▂▂▂▂▃▃▃▃▃▃▄▄▄▄▄▅▅▅▅▅▅▆▆▆▆▆▇▇▇▇▇▇███</td></tr><tr><td>norm_W</td><td>▁▁▁▂▂▂▂▂▃▃▃▃▄▄▄▅▅▅▅▅▅▆▆▆▆▆▆▆▇▇▇▇▇▇▇█████</td></tr><tr><td>norm_a</td><td>▁▁▁▁▂▂▂▃▄▄▅▅▆█▇▇▆▆▅▆▅▇▆██▇▇▆▇▅▅▆▆▆▆▆▆▆▅▆</td></tr><tr><td>test_loss</td><td>██▇██▇▇▇▇▇▇▆▆▆▅▅▅▄▄▄▃▃▃▃▃▃▃▃▂▂▂▂▂▂▂▂▁▁▁▁</td></tr><tr><td>train_loss</td><td>██▇▇█▇▇▇▇▇▇▆▆▆▅▅▅▄▄▄▃▃▃▃▃▃▃▃▂▂▂▂▂▂▂▂▁▁▁▁</td></tr></table><br/></div><div class=\"wandb-col\"><h3>Run summary:</h3><br/><table class=\"wandb\"><tr><td>accuracy</td><td>0.56327</td></tr><tr><td>epoch</td><td>680</td></tr><tr><td>norm_W</td><td>75.7319</td></tr><tr><td>norm_a</td><td>17.54812</td></tr><tr><td>test_loss</td><td>0.43673</td></tr><tr><td>train_loss</td><td>0.41878</td></tr></table><br/></div></div>"
      ],
      "text/plain": [
       "<IPython.core.display.HTML object>"
      ]
     },
     "metadata": {},
     "output_type": "display_data"
    },
    {
     "data": {
      "text/html": [
       " View run <strong style=\"color:#cdcd00\">PM_IEQ_Example_2_09012234</strong> at: <a href='https://wandb.ai/pheonizard-university-of-nottingham/Numerical%20Method/runs/cgji53lx' target=\"_blank\">https://wandb.ai/pheonizard-university-of-nottingham/Numerical%20Method/runs/cgji53lx</a><br/> View project at: <a href='https://wandb.ai/pheonizard-university-of-nottingham/Numerical%20Method' target=\"_blank\">https://wandb.ai/pheonizard-university-of-nottingham/Numerical%20Method</a><br/>Synced 6 W&B file(s), 0 media file(s), 0 artifact file(s) and 0 other file(s)"
      ],
      "text/plain": [
       "<IPython.core.display.HTML object>"
      ]
     },
     "metadata": {},
     "output_type": "display_data"
    },
    {
     "data": {
      "text/html": [
       "Find logs at: <code>./wandb/run-20240901_223500-cgji53lx/logs</code>"
      ],
      "text/plain": [
       "<IPython.core.display.HTML object>"
      ]
     },
     "metadata": {},
     "output_type": "display_data"
    },
    {
     "data": {
      "text/html": [
       "The new W&B backend becomes opt-out in version 0.18.0; try it out with `wandb.require(\"core\")`! See https://wandb.me/wandb-core for more information."
      ],
      "text/plain": [
       "<IPython.core.display.HTML object>"
      ]
     },
     "metadata": {},
     "output_type": "display_data"
    }
   ],
   "source": [
    "wandb.finish()"
   ]
  }
 ],
 "metadata": {
  "kernelspec": {
   "display_name": "Python 3 (ipykernel)",
   "language": "python",
   "name": "python3"
  },
  "language_info": {
   "codemirror_mode": {
    "name": "ipython",
    "version": 3
   },
   "file_extension": ".py",
   "mimetype": "text/x-python",
   "name": "python",
   "nbconvert_exporter": "python",
   "pygments_lexer": "ipython3",
   "version": "3.10.8"
  }
 },
 "nbformat": 4,
 "nbformat_minor": 4
}
