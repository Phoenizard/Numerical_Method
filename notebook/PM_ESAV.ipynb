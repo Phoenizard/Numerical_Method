{
 "cells": [
  {
   "cell_type": "code",
   "execution_count": 1,
   "metadata": {},
   "outputs": [],
   "source": [
    "import torch\n",
    "import torch.nn as nn\n",
    "import torch.optim as optim\n",
    "from torch.utils.data import DataLoader, TensorDataset\n",
    "import numpy as np\n",
    "import wandb\n",
    "from tqdm import tqdm"
   ]
  },
  {
   "cell_type": "code",
   "execution_count": 2,
   "metadata": {},
   "outputs": [
    {
     "data": {
      "text/plain": [
       "device(type='cuda')"
      ]
     },
     "execution_count": 2,
     "metadata": {},
     "output_type": "execute_result"
    }
   ],
   "source": [
    "device = torch.device('cuda' if torch.cuda.is_available() else 'cpu')\n",
    "device"
   ]
  },
  {
   "cell_type": "code",
   "execution_count": 3,
   "metadata": {},
   "outputs": [],
   "source": [
    "X_train, Y_train, X_test, Y_test = torch.load('../data/dataset_2_40D.pt', weights_only=True)\n",
    "\n",
    "# 将数据移动到适当的设备\n",
    "X_train = X_train.to(device)\n",
    "Y_train = Y_train.to(device)\n",
    "X_test = X_test.to(device)\n",
    "Y_test = Y_test.to(device)\n",
    "\n",
    "# 使用 DataLoader 进行批处理\n",
    "l = 64\n",
    "train_dataset = TensorDataset(X_train, Y_train)\n",
    "train_loader = DataLoader(train_dataset, batch_size=l, shuffle=True)\n",
    "\n",
    "D = 40\n",
    "m = 100\n",
    "\n",
    "class PM_Euler(nn.Module):\n",
    "    def __init__(self, input, hidden_layer, output):\n",
    "        super(PM_Euler, self).__init__()\n",
    "        self.relu = nn.ReLU()\n",
    "        self.hidden_dim = hidden_layer\n",
    "        self.W = nn.Parameter(torch.rand(input, hidden_layer, device=device), requires_grad=True)\n",
    "        # HE初始化\n",
    "        nn.init.kaiming_normal_(self.W, mode='fan_in', nonlinearity='relu')\n",
    "        self.a = nn.Parameter(torch.rand(hidden_layer, output, device=device), requires_grad=True)\n",
    "        nn.init.kaiming_normal_(self.a, mode='fan_in', nonlinearity='relu')\n",
    "        \n",
    "    def forward(self, x):\n",
    "        # print(x.shape)\n",
    "        z1 = self.relu(torch.mm(x, self.W))\n",
    "        # print(z1.shape)\n",
    "        z2 = torch.mm(z1, self.a) / self.hidden_dim\n",
    "        return z2\n",
    "\n",
    "    def loss(self, y_pred, y_true):\n",
    "        return (y_pred - y_true.reshape(y_pred.shape)) ** 2\n",
    "    \n",
    "        # 计算模型W和a的Norm\n",
    "    def get_norm(self):\n",
    "        return [torch.norm(self.W).item(), torch.norm(self.a).item()]\n",
    "\n",
    "\n",
    "model = PM_Euler(D + 1, m, 1).to(device)"
   ]
  },
  {
   "cell_type": "code",
   "execution_count": 4,
   "metadata": {},
   "outputs": [
    {
     "name": "stderr",
     "output_type": "stream",
     "text": [
      "Failed to detect the name of this notebook, you can set it manually with the WANDB_NOTEBOOK_NAME environment variable to enable code saving.\n",
      "\u001b[34m\u001b[1mwandb\u001b[0m: Currently logged in as: \u001b[33mpheonizard\u001b[0m (\u001b[33mpheonizard-university-of-nottingham\u001b[0m). Use \u001b[1m`wandb login --relogin`\u001b[0m to force relogin\n"
     ]
    },
    {
     "data": {
      "text/html": [
       "wandb version 0.17.8 is available!  To upgrade, please run:\n",
       " $ pip install wandb --upgrade"
      ],
      "text/plain": [
       "<IPython.core.display.HTML object>"
      ]
     },
     "metadata": {},
     "output_type": "display_data"
    },
    {
     "data": {
      "text/html": [
       "Tracking run with wandb version 0.17.6"
      ],
      "text/plain": [
       "<IPython.core.display.HTML object>"
      ]
     },
     "metadata": {},
     "output_type": "display_data"
    },
    {
     "data": {
      "text/html": [
       "Run data is saved locally in <code>/root/Workspace/Numerical_Method/notebook/wandb/run-20240831_190832-n158gakz</code>"
      ],
      "text/plain": [
       "<IPython.core.display.HTML object>"
      ]
     },
     "metadata": {},
     "output_type": "display_data"
    },
    {
     "data": {
      "text/html": [
       "Syncing run <strong><a href='https://wandb.ai/pheonizard-university-of-nottingham/Numerical%20Method/runs/n158gakz' target=\"_blank\">PM_ESAV_Example_2_08311908</a></strong> to <a href='https://wandb.ai/pheonizard-university-of-nottingham/Numerical%20Method' target=\"_blank\">Weights & Biases</a> (<a href='https://wandb.me/run' target=\"_blank\">docs</a>)<br/>"
      ],
      "text/plain": [
       "<IPython.core.display.HTML object>"
      ]
     },
     "metadata": {},
     "output_type": "display_data"
    },
    {
     "data": {
      "text/html": [
       " View project at <a href='https://wandb.ai/pheonizard-university-of-nottingham/Numerical%20Method' target=\"_blank\">https://wandb.ai/pheonizard-university-of-nottingham/Numerical%20Method</a>"
      ],
      "text/plain": [
       "<IPython.core.display.HTML object>"
      ]
     },
     "metadata": {},
     "output_type": "display_data"
    },
    {
     "data": {
      "text/html": [
       " View run at <a href='https://wandb.ai/pheonizard-university-of-nottingham/Numerical%20Method/runs/n158gakz' target=\"_blank\">https://wandb.ai/pheonizard-university-of-nottingham/Numerical%20Method/runs/n158gakz</a>"
      ],
      "text/plain": [
       "<IPython.core.display.HTML object>"
      ]
     },
     "metadata": {},
     "output_type": "display_data"
    },
    {
     "data": {
      "text/html": [
       "<button onClick=\"this.nextSibling.style.display='block';this.style.display='none';\">Display W&B run</button><iframe src='https://wandb.ai/pheonizard-university-of-nottingham/Numerical%20Method/runs/n158gakz?jupyter=true' style='border:none;width:100%;height:420px;display:none;'></iframe>"
      ],
      "text/plain": [
       "<wandb.sdk.wandb_run.Run at 0x7f0621eec8c0>"
      ]
     },
     "execution_count": 4,
     "metadata": {},
     "output_type": "execute_result"
    }
   ],
   "source": [
    "epochs = 10000\n",
    "lr = 1\n",
    "_lambda = 4\n",
    "\n",
    "train_losses = []\n",
    "test_losses = []\n",
    "\n",
    "import datetime\n",
    "\n",
    "config = {\n",
    "    'learning_rate': lr,\n",
    "    'batch_size': l,\n",
    "    'epochs': epochs,\n",
    "    'hidden_layer': m,\n",
    "    'input': D + 1,\n",
    "    '_lambda': _lambda,\n",
    "    'output': 1,\n",
    "    'optimizer': 'ESAV'\n",
    "}\n",
    "\n",
    "date = datetime.datetime.now().strftime(\"%m%d%H%M\")\n",
    "wandb.init(project='Numerical Method', name=f\"PM_ESAV_Example_2_{date}\", config=config, \n",
    "           notes=\"尝试合并W和a的更新，使用ESAV方法\")"
   ]
  },
  {
   "cell_type": "code",
   "execution_count": 5,
   "metadata": {},
   "outputs": [
    {
     "name": "stderr",
     "output_type": "stream",
     "text": [
      "100%|██████████| 10000/10000 [26:07<00:00,  6.38it/s]\n"
     ]
    }
   ],
   "source": [
    "for epoch in tqdm(range(epochs)):\n",
    "    cnt = 0\n",
    "    for X, Y in train_loader:\n",
    "        loss = model.loss(model(X), Y).mean()\n",
    "        if cnt == 0:\n",
    "            r = torch.exp(loss)\n",
    "            cnt = 1\n",
    "        loss.backward()\n",
    "        with torch.no_grad():\n",
    "            N_w = model.W.grad\n",
    "            N_a = model.a.grad\n",
    "            N_theta = torch.cat((N_w.flatten(), N_a.flatten()))\n",
    "            linear_N_theta = N_theta / (1 + _lambda * lr)\n",
    "            # linear_N_a = N_a / (1 + _lambda * lr)\n",
    "            # linear_N_w = N_w / (1 + _lambda * lr)\n",
    "            # theta_a_2 = - linear_N_a * lr / (torch.exp(loss))\n",
    "            # theta_w_2 = - linear_N_w * lr / (torch.exp(loss))\n",
    "            theta_2 = - linear_N_theta * lr / (torch.exp(loss))\n",
    "            #=========Update SAV R================\n",
    "            r = r / (1 + lr * (torch.sum(N_theta * linear_N_theta)))\n",
    "            #=========Update Params================\n",
    "            theta_2 = r.item() * theta_2\n",
    "            model.W += theta_2[:m * (D + 1)].reshape(D + 1, m)\n",
    "            model.a += theta_2[m * (D + 1):].reshape(m, 1)\n",
    "            # model.a += r.item() * theta_a_2\n",
    "            # model.W += r.item() * theta_w_2\n",
    "            model.a.grad.zero_()\n",
    "            model.W.grad.zero_()\n",
    "            wandb.log({'r': r.item()})\n",
    "    with torch.no_grad():\n",
    "        train_loss = model.loss(model(X_train), Y_train).mean()\n",
    "        test_loss = model.loss(model(X_test), Y_test).mean()\n",
    "        train_losses.append(train_loss)\n",
    "        test_losses.append(test_loss)\n",
    "        norm = model.get_norm()\n",
    "        wandb.log({'epoch': epoch + 1,\n",
    "                   'train_loss': train_loss, \n",
    "                   'test_loss': test_loss,\n",
    "                   'norm_W': norm[0],\n",
    "                   'norm_a': norm[1],\n",
    "                   'accuracy': 1 - test_loss})\n",
    "        # print(f'epoch {epoch + 1}, loss {train_loss:.8f}, test loss {test_loss:.8f}')"
   ]
  },
  {
   "cell_type": "code",
   "execution_count": 6,
   "metadata": {},
   "outputs": [
    {
     "data": {
      "text/html": [
       "<style>\n",
       "    table.wandb td:nth-child(1) { padding: 0 10px; text-align: left ; width: auto;} td:nth-child(2) {text-align: left ; width: 100%}\n",
       "    .wandb-row { display: flex; flex-direction: row; flex-wrap: wrap; justify-content: flex-start; width: 100% }\n",
       "    .wandb-col { display: flex; flex-direction: column; flex-basis: 100%; flex: 1; padding: 10px; }\n",
       "    </style>\n",
       "<div class=\"wandb-row\"><div class=\"wandb-col\"><h3>Run history:</h3><br/><table class=\"wandb\"><tr><td>accuracy</td><td>▁▅▇█████████████████████████████████████</td></tr><tr><td>epoch</td><td>▁▁▁▁▂▂▂▂▂▃▃▃▃▃▃▄▄▄▄▄▅▅▅▅▅▅▆▆▆▆▆▇▇▇▇▇▇███</td></tr><tr><td>norm_W</td><td>▁▃▅▆▇▇▇▇▇▇▇▇▇▇▇█████████████████████████</td></tr><tr><td>norm_a</td><td>▁▃▅▆▇▇▇▇▇▇▇▇▇▇▇█████████████████████████</td></tr><tr><td>r</td><td>█▄▂▁▁▁▁▂▂▂▂▂▁▁▁▂▂▂▁▁▁▁▂▂▂▂▂▁▁▂▂▂▂▂▁▁▂▂▂▂</td></tr><tr><td>test_loss</td><td>█▄▂▁▁▁▁▁▁▁▁▁▁▁▁▁▁▁▁▁▁▁▁▁▁▁▁▁▁▁▁▁▁▁▁▁▁▁▁▁</td></tr><tr><td>train_loss</td><td>█▄▂▂▁▁▁▁▁▁▁▁▁▁▁▁▁▁▁▁▁▁▁▁▁▁▁▁▁▁▁▁▁▁▁▁▁▁▁▁</td></tr></table><br/></div><div class=\"wandb-col\"><h3>Run summary:</h3><br/><table class=\"wandb\"><tr><td>accuracy</td><td>0.99229</td></tr><tr><td>epoch</td><td>10000</td></tr><tr><td>norm_W</td><td>27.66876</td></tr><tr><td>norm_a</td><td>28.9782</td></tr><tr><td>r</td><td>0.99816</td></tr><tr><td>test_loss</td><td>0.00771</td></tr><tr><td>train_loss</td><td>0.00096</td></tr></table><br/></div></div>"
      ],
      "text/plain": [
       "<IPython.core.display.HTML object>"
      ]
     },
     "metadata": {},
     "output_type": "display_data"
    },
    {
     "data": {
      "text/html": [
       " View run <strong style=\"color:#cdcd00\">PM_ESAV_Example_2_08311908</strong> at: <a href='https://wandb.ai/pheonizard-university-of-nottingham/Numerical%20Method/runs/n158gakz' target=\"_blank\">https://wandb.ai/pheonizard-university-of-nottingham/Numerical%20Method/runs/n158gakz</a><br/> View project at: <a href='https://wandb.ai/pheonizard-university-of-nottingham/Numerical%20Method' target=\"_blank\">https://wandb.ai/pheonizard-university-of-nottingham/Numerical%20Method</a><br/>Synced 6 W&B file(s), 0 media file(s), 0 artifact file(s) and 0 other file(s)"
      ],
      "text/plain": [
       "<IPython.core.display.HTML object>"
      ]
     },
     "metadata": {},
     "output_type": "display_data"
    },
    {
     "data": {
      "text/html": [
       "Find logs at: <code>./wandb/run-20240831_190832-n158gakz/logs</code>"
      ],
      "text/plain": [
       "<IPython.core.display.HTML object>"
      ]
     },
     "metadata": {},
     "output_type": "display_data"
    },
    {
     "data": {
      "text/html": [
       "The new W&B backend becomes opt-out in version 0.18.0; try it out with `wandb.require(\"core\")`! See https://wandb.me/wandb-core for more information."
      ],
      "text/plain": [
       "<IPython.core.display.HTML object>"
      ]
     },
     "metadata": {},
     "output_type": "display_data"
    }
   ],
   "source": [
    "wandb.finish()"
   ]
  }
 ],
 "metadata": {
  "kernelspec": {
   "display_name": "NumericalMethod",
   "language": "python",
   "name": "python3"
  },
  "language_info": {
   "codemirror_mode": {
    "name": "ipython",
    "version": 3
   },
   "file_extension": ".py",
   "mimetype": "text/x-python",
   "name": "python",
   "nbconvert_exporter": "python",
   "pygments_lexer": "ipython3",
   "version": "3.12.4"
  }
 },
 "nbformat": 4,
 "nbformat_minor": 2
}
