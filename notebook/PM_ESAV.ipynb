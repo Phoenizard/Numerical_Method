{
 "cells": [
  {
   "cell_type": "code",
   "execution_count": 1,
   "metadata": {},
   "outputs": [],
   "source": [
    "import torch\n",
    "import torch.nn as nn\n",
    "import torch.optim as optim\n",
    "from torch.utils.data import DataLoader, TensorDataset\n",
    "import numpy as np\n",
    "import matplotlib.pyplot as plt\n",
    "import wandb"
   ]
  },
  {
   "cell_type": "code",
   "execution_count": 11,
   "metadata": {},
   "outputs": [
    {
     "data": {
      "text/plain": [
       "device(type='cpu')"
      ]
     },
     "execution_count": 11,
     "metadata": {},
     "output_type": "execute_result"
    }
   ],
   "source": [
    "device = torch.device('cuda' if torch.cuda.is_available() else 'cpu')\n",
    "device"
   ]
  },
  {
   "cell_type": "code",
   "execution_count": 12,
   "metadata": {},
   "outputs": [
    {
     "data": {
      "text/plain": [
       "(9.075422286987305, 13.460860252380371)"
      ]
     },
     "execution_count": 12,
     "metadata": {},
     "output_type": "execute_result"
    }
   ],
   "source": [
    "X_train, Y_train, X_test, Y_test = torch.load('../data/dataset_2_40D.pt')\n",
    "\n",
    "# 将数据移动到适当的设备\n",
    "X_train = X_train.to(device)\n",
    "Y_train = Y_train.to(device)\n",
    "X_test = X_test.to(device)\n",
    "Y_test = Y_test.to(device)\n",
    "\n",
    "# 使用 DataLoader 进行批处理\n",
    "l = 64\n",
    "train_dataset = TensorDataset(X_train, Y_train)\n",
    "train_loader = DataLoader(train_dataset, batch_size=l, shuffle=True)\n",
    "\n",
    "D = 40\n",
    "m = 100\n",
    "\n",
    "class PM_Euler(nn.Module):\n",
    "    def __init__(self, input, hidden_layer, output):\n",
    "        super(PM_Euler, self).__init__()\n",
    "        self.relu = nn.ReLU()\n",
    "        self.hidden_dim = hidden_layer\n",
    "        self.W = nn.Parameter(torch.rand(input, hidden_layer, device=device), requires_grad=True)\n",
    "        # HE初始化\n",
    "        nn.init.kaiming_normal_(self.W, mode='fan_in', nonlinearity='relu')\n",
    "        self.a = nn.Parameter(torch.rand(hidden_layer, output, device=device), requires_grad=True)\n",
    "        nn.init.kaiming_normal_(self.a, mode='fan_in', nonlinearity='relu')\n",
    "        \n",
    "    def forward(self, x):\n",
    "        # print(x.shape)\n",
    "        z1 = self.relu(torch.mm(x, self.W))\n",
    "        # print(z1.shape)\n",
    "        z2 = torch.mm(z1, self.a) / self.hidden_dim\n",
    "        return z2\n",
    "\n",
    "    def loss(self, y_pred, y_true):\n",
    "        return (y_pred - y_true.reshape(y_pred.shape)) ** 2\n",
    "\n",
    "model = PM_Euler(D + 1, m, 1).to(device)\n",
    "\n",
    "# 计算模型W和a的Norm\n",
    "def get_norm(model):\n",
    "    return torch.norm(model.W).item(), torch.norm(model.a).item()\n",
    "\n",
    "get_norm(model)"
   ]
  },
  {
   "cell_type": "code",
   "execution_count": 9,
   "metadata": {},
   "outputs": [
    {
     "name": "stderr",
     "output_type": "stream",
     "text": [
      "Failed to detect the name of this notebook, you can set it manually with the WANDB_NOTEBOOK_NAME environment variable to enable code saving.\n",
      "\u001b[34m\u001b[1mwandb\u001b[0m: Currently logged in as: \u001b[33mpheonizard\u001b[0m (\u001b[33mpheonizard-university-of-nottingham\u001b[0m). Use \u001b[1m`wandb login --relogin`\u001b[0m to force relogin\n"
     ]
    },
    {
     "data": {
      "text/html": [
       "wandb version 0.17.7 is available!  To upgrade, please run:\n",
       " $ pip install wandb --upgrade"
      ],
      "text/plain": [
       "<IPython.core.display.HTML object>"
      ]
     },
     "metadata": {},
     "output_type": "display_data"
    },
    {
     "data": {
      "text/html": [
       "Tracking run with wandb version 0.17.4"
      ],
      "text/plain": [
       "<IPython.core.display.HTML object>"
      ]
     },
     "metadata": {},
     "output_type": "display_data"
    },
    {
     "data": {
      "text/html": [
       "Run data is saved locally in <code>/Users/shay/Workplace/Numerical_Method/notebook/wandb/run-20240820_213630-n2cydul8</code>"
      ],
      "text/plain": [
       "<IPython.core.display.HTML object>"
      ]
     },
     "metadata": {},
     "output_type": "display_data"
    },
    {
     "data": {
      "text/html": [
       "Syncing run <strong><a href='https://wandb.ai/pheonizard-university-of-nottingham/Numerical%20Method/runs/n2cydul8' target=\"_blank\">PM_ESAV_Example_2_08202136</a></strong> to <a href='https://wandb.ai/pheonizard-university-of-nottingham/Numerical%20Method' target=\"_blank\">Weights & Biases</a> (<a href='https://wandb.me/run' target=\"_blank\">docs</a>)<br/>"
      ],
      "text/plain": [
       "<IPython.core.display.HTML object>"
      ]
     },
     "metadata": {},
     "output_type": "display_data"
    },
    {
     "data": {
      "text/html": [
       " View project at <a href='https://wandb.ai/pheonizard-university-of-nottingham/Numerical%20Method' target=\"_blank\">https://wandb.ai/pheonizard-university-of-nottingham/Numerical%20Method</a>"
      ],
      "text/plain": [
       "<IPython.core.display.HTML object>"
      ]
     },
     "metadata": {},
     "output_type": "display_data"
    },
    {
     "data": {
      "text/html": [
       " View run at <a href='https://wandb.ai/pheonizard-university-of-nottingham/Numerical%20Method/runs/n2cydul8' target=\"_blank\">https://wandb.ai/pheonizard-university-of-nottingham/Numerical%20Method/runs/n2cydul8</a>"
      ],
      "text/plain": [
       "<IPython.core.display.HTML object>"
      ]
     },
     "metadata": {},
     "output_type": "display_data"
    },
    {
     "data": {
      "text/html": [
       "<button onClick=\"this.nextSibling.style.display='block';this.style.display='none';\">Display W&B run</button><iframe src='https://wandb.ai/pheonizard-university-of-nottingham/Numerical%20Method/runs/n2cydul8?jupyter=true' style='border:none;width:100%;height:420px;display:none;'></iframe>"
      ],
      "text/plain": [
       "<wandb.sdk.wandb_run.Run at 0x15f0c9b50>"
      ]
     },
     "execution_count": 9,
     "metadata": {},
     "output_type": "execute_result"
    }
   ],
   "source": [
    "epochs = 10000\n",
    "lr = 0.01\n",
    "_lambda = 0\n",
    "\n",
    "train_losses = []\n",
    "test_losses = []\n",
    "\n",
    "import datetime\n",
    "\n",
    "wandb.config = {\n",
    "    'learning_rate': lr,\n",
    "    'batch_size': l,\n",
    "    'epochs': epochs,\n",
    "    'hidden_layer': m,\n",
    "    'input': D + 1,\n",
    "    '_lambda': _lambda,\n",
    "    'output': 1,\n",
    "    'optimizer': 'ESAV'\n",
    "}\n",
    "\n",
    "date = datetime.datetime.now().strftime(\"%m%d%H%M\")\n",
    "wandb.init(project='Numerical Method', name=f\"PM_ESAV_Example_2_{date}\")"
   ]
  },
  {
   "cell_type": "code",
   "execution_count": 14,
   "metadata": {},
   "outputs": [
    {
     "name": "stdout",
     "output_type": "stream",
     "text": [
      "epoch 1, loss 1.0229, test loss 1.0452\n",
      "epoch 2, loss 1.0039, test loss 1.0259\n",
      "epoch 3, loss 0.9872, test loss 1.0090\n",
      "epoch 4, loss 0.9700, test loss 0.9916\n",
      "epoch 5, loss 0.9489, test loss 0.9703\n",
      "epoch 6, loss 0.9280, test loss 0.9491\n",
      "epoch 7, loss 0.9140, test loss 0.9350\n",
      "epoch 8, loss 0.8969, test loss 0.9175\n",
      "epoch 9, loss 0.8710, test loss 0.8912\n",
      "epoch 10, loss 0.8526, test loss 0.8725\n",
      "epoch 11, loss 0.8289, test loss 0.8484\n",
      "epoch 12, loss 0.8108, test loss 0.8301\n",
      "epoch 13, loss 0.7958, test loss 0.8148\n",
      "epoch 14, loss 0.7791, test loss 0.7978\n",
      "epoch 15, loss 0.7600, test loss 0.7784\n",
      "epoch 16, loss 0.7478, test loss 0.7661\n",
      "epoch 17, loss 0.7330, test loss 0.7509\n",
      "epoch 18, loss 0.7186, test loss 0.7363\n",
      "epoch 19, loss 0.7015, test loss 0.7189\n",
      "epoch 20, loss 0.6863, test loss 0.7034\n",
      "epoch 21, loss 0.6685, test loss 0.6853\n",
      "epoch 22, loss 0.6533, test loss 0.6699\n",
      "epoch 23, loss 0.6329, test loss 0.6491\n",
      "epoch 24, loss 0.6160, test loss 0.6319\n",
      "epoch 25, loss 0.5966, test loss 0.6122\n",
      "epoch 26, loss 0.5823, test loss 0.5976\n",
      "epoch 27, loss 0.5647, test loss 0.5798\n",
      "epoch 28, loss 0.5498, test loss 0.5646\n",
      "epoch 29, loss 0.5337, test loss 0.5482\n",
      "epoch 30, loss 0.5196, test loss 0.5339\n",
      "epoch 31, loss 0.5028, test loss 0.5167\n",
      "epoch 32, loss 0.4877, test loss 0.5014\n",
      "epoch 33, loss 0.4747, test loss 0.4881\n",
      "epoch 34, loss 0.4604, test loss 0.4736\n",
      "epoch 35, loss 0.4456, test loss 0.4585\n",
      "epoch 36, loss 0.4324, test loss 0.4451\n",
      "epoch 37, loss 0.4204, test loss 0.4329\n",
      "epoch 38, loss 0.4076, test loss 0.4198\n",
      "epoch 39, loss 0.3947, test loss 0.4067\n",
      "epoch 40, loss 0.3818, test loss 0.3936\n",
      "epoch 41, loss 0.3699, test loss 0.3814\n",
      "epoch 42, loss 0.3589, test loss 0.3703\n",
      "epoch 43, loss 0.3478, test loss 0.3590\n",
      "epoch 44, loss 0.3360, test loss 0.3470\n",
      "epoch 45, loss 0.3247, test loss 0.3355\n",
      "epoch 46, loss 0.3141, test loss 0.3246\n",
      "epoch 47, loss 0.3040, test loss 0.3144\n",
      "epoch 48, loss 0.2941, test loss 0.3044\n",
      "epoch 49, loss 0.2840, test loss 0.2940\n",
      "epoch 50, loss 0.2737, test loss 0.2835\n",
      "epoch 51, loss 0.2646, test loss 0.2743\n",
      "epoch 52, loss 0.2554, test loss 0.2649\n",
      "epoch 53, loss 0.2475, test loss 0.2568\n",
      "epoch 54, loss 0.2390, test loss 0.2482\n",
      "epoch 55, loss 0.2305, test loss 0.2395\n",
      "epoch 56, loss 0.2230, test loss 0.2319\n",
      "epoch 57, loss 0.2162, test loss 0.2250\n",
      "epoch 58, loss 0.2092, test loss 0.2179\n",
      "epoch 59, loss 0.2019, test loss 0.2103\n",
      "epoch 60, loss 0.1953, test loss 0.2037\n",
      "epoch 61, loss 0.1892, test loss 0.1974\n",
      "epoch 62, loss 0.1832, test loss 0.1913\n",
      "epoch 63, loss 0.1773, test loss 0.1853\n",
      "epoch 64, loss 0.1719, test loss 0.1798\n",
      "epoch 65, loss 0.1667, test loss 0.1744\n",
      "epoch 66, loss 0.1616, test loss 0.1692\n",
      "epoch 67, loss 0.1566, test loss 0.1641\n",
      "epoch 68, loss 0.1519, test loss 0.1593\n",
      "epoch 69, loss 0.1476, test loss 0.1549\n",
      "epoch 70, loss 0.1432, test loss 0.1503\n",
      "epoch 71, loss 0.1391, test loss 0.1462\n",
      "epoch 72, loss 0.1354, test loss 0.1424\n",
      "epoch 73, loss 0.1315, test loss 0.1383\n",
      "epoch 74, loss 0.1281, test loss 0.1349\n",
      "epoch 75, loss 0.1248, test loss 0.1315\n",
      "epoch 76, loss 0.1217, test loss 0.1283\n",
      "epoch 77, loss 0.1187, test loss 0.1253\n",
      "epoch 78, loss 0.1159, test loss 0.1223\n",
      "epoch 79, loss 0.1131, test loss 0.1195\n",
      "epoch 80, loss 0.1105, test loss 0.1169\n",
      "epoch 81, loss 0.1081, test loss 0.1144\n",
      "epoch 82, loss 0.1058, test loss 0.1120\n",
      "epoch 83, loss 0.1036, test loss 0.1097\n",
      "epoch 84, loss 0.1015, test loss 0.1075\n",
      "epoch 85, loss 0.0995, test loss 0.1054\n",
      "epoch 86, loss 0.0975, test loss 0.1035\n",
      "epoch 87, loss 0.0958, test loss 0.1017\n",
      "epoch 88, loss 0.0940, test loss 0.0998\n",
      "epoch 89, loss 0.0924, test loss 0.0982\n",
      "epoch 90, loss 0.0909, test loss 0.0966\n",
      "epoch 91, loss 0.0895, test loss 0.0951\n",
      "epoch 92, loss 0.0881, test loss 0.0937\n",
      "epoch 93, loss 0.0868, test loss 0.0924\n",
      "epoch 94, loss 0.0856, test loss 0.0911\n",
      "epoch 95, loss 0.0844, test loss 0.0899\n",
      "epoch 96, loss 0.0833, test loss 0.0888\n",
      "epoch 97, loss 0.0823, test loss 0.0877\n",
      "epoch 98, loss 0.0813, test loss 0.0867\n",
      "epoch 99, loss 0.0803, test loss 0.0857\n",
      "epoch 100, loss 0.0794, test loss 0.0847\n",
      "epoch 101, loss 0.0786, test loss 0.0839\n",
      "epoch 102, loss 0.0778, test loss 0.0831\n",
      "epoch 103, loss 0.0771, test loss 0.0823\n",
      "epoch 104, loss 0.0764, test loss 0.0816\n",
      "epoch 105, loss 0.0758, test loss 0.0809\n",
      "epoch 106, loss 0.0751, test loss 0.0803\n",
      "epoch 107, loss 0.0745, test loss 0.0797\n",
      "epoch 108, loss 0.0740, test loss 0.0791\n",
      "epoch 109, loss 0.0735, test loss 0.0786\n",
      "epoch 110, loss 0.0730, test loss 0.0780\n",
      "epoch 111, loss 0.0725, test loss 0.0776\n",
      "epoch 112, loss 0.0721, test loss 0.0771\n",
      "epoch 113, loss 0.0717, test loss 0.0767\n",
      "epoch 114, loss 0.0713, test loss 0.0763\n",
      "epoch 115, loss 0.0709, test loss 0.0759\n",
      "epoch 116, loss 0.0706, test loss 0.0755\n",
      "epoch 117, loss 0.0703, test loss 0.0752\n",
      "epoch 118, loss 0.0699, test loss 0.0748\n",
      "epoch 119, loss 0.0696, test loss 0.0745\n",
      "epoch 120, loss 0.0694, test loss 0.0742\n",
      "epoch 121, loss 0.0691, test loss 0.0740\n",
      "epoch 122, loss 0.0689, test loss 0.0737\n",
      "epoch 123, loss 0.0686, test loss 0.0735\n",
      "epoch 124, loss 0.0684, test loss 0.0732\n",
      "epoch 125, loss 0.0682, test loss 0.0730\n",
      "epoch 126, loss 0.0680, test loss 0.0728\n",
      "epoch 127, loss 0.0678, test loss 0.0726\n",
      "epoch 128, loss 0.0676, test loss 0.0724\n",
      "epoch 129, loss 0.0675, test loss 0.0722\n",
      "epoch 130, loss 0.0673, test loss 0.0721\n",
      "epoch 131, loss 0.0672, test loss 0.0719\n",
      "epoch 132, loss 0.0670, test loss 0.0717\n",
      "epoch 133, loss 0.0669, test loss 0.0716\n",
      "epoch 134, loss 0.0667, test loss 0.0715\n",
      "epoch 135, loss 0.0666, test loss 0.0713\n",
      "epoch 136, loss 0.0665, test loss 0.0712\n",
      "epoch 137, loss 0.0664, test loss 0.0711\n",
      "epoch 138, loss 0.0663, test loss 0.0710\n",
      "epoch 139, loss 0.0662, test loss 0.0709\n",
      "epoch 140, loss 0.0661, test loss 0.0708\n",
      "epoch 141, loss 0.0660, test loss 0.0707\n",
      "epoch 142, loss 0.0659, test loss 0.0706\n",
      "epoch 143, loss 0.0658, test loss 0.0705\n",
      "epoch 144, loss 0.0657, test loss 0.0704\n",
      "epoch 145, loss 0.0657, test loss 0.0703\n",
      "epoch 146, loss 0.0656, test loss 0.0702\n",
      "epoch 147, loss 0.0655, test loss 0.0701\n",
      "epoch 148, loss 0.0655, test loss 0.0701\n",
      "epoch 149, loss 0.0654, test loss 0.0700\n",
      "epoch 150, loss 0.0653, test loss 0.0699\n",
      "epoch 151, loss 0.0653, test loss 0.0699\n",
      "epoch 152, loss 0.0652, test loss 0.0698\n",
      "epoch 153, loss 0.0651, test loss 0.0697\n",
      "epoch 154, loss 0.0651, test loss 0.0697\n",
      "epoch 155, loss 0.0650, test loss 0.0696\n",
      "epoch 156, loss 0.0650, test loss 0.0696\n",
      "epoch 157, loss 0.0649, test loss 0.0695\n",
      "epoch 158, loss 0.0649, test loss 0.0695\n",
      "epoch 159, loss 0.0648, test loss 0.0694\n",
      "epoch 160, loss 0.0648, test loss 0.0694\n",
      "epoch 161, loss 0.0648, test loss 0.0693\n",
      "epoch 162, loss 0.0647, test loss 0.0693\n",
      "epoch 163, loss 0.0647, test loss 0.0692\n",
      "epoch 164, loss 0.0646, test loss 0.0692\n",
      "epoch 165, loss 0.0646, test loss 0.0692\n",
      "epoch 166, loss 0.0646, test loss 0.0691\n",
      "epoch 167, loss 0.0645, test loss 0.0691\n",
      "epoch 168, loss 0.0645, test loss 0.0690\n",
      "epoch 169, loss 0.0644, test loss 0.0690\n",
      "epoch 170, loss 0.0644, test loss 0.0690\n",
      "epoch 171, loss 0.0644, test loss 0.0689\n",
      "epoch 172, loss 0.0643, test loss 0.0689\n",
      "epoch 173, loss 0.0643, test loss 0.0689\n",
      "epoch 174, loss 0.0643, test loss 0.0688\n",
      "epoch 175, loss 0.0642, test loss 0.0688\n",
      "epoch 176, loss 0.0642, test loss 0.0688\n",
      "epoch 177, loss 0.0642, test loss 0.0687\n",
      "epoch 178, loss 0.0641, test loss 0.0687\n",
      "epoch 179, loss 0.0641, test loss 0.0687\n",
      "epoch 180, loss 0.0641, test loss 0.0686\n",
      "epoch 181, loss 0.0641, test loss 0.0686\n",
      "epoch 182, loss 0.0640, test loss 0.0686\n",
      "epoch 183, loss 0.0640, test loss 0.0685\n",
      "epoch 184, loss 0.0640, test loss 0.0685\n",
      "epoch 185, loss 0.0639, test loss 0.0685\n",
      "epoch 186, loss 0.0639, test loss 0.0685\n",
      "epoch 187, loss 0.0639, test loss 0.0684\n",
      "epoch 188, loss 0.0639, test loss 0.0684\n",
      "epoch 189, loss 0.0638, test loss 0.0684\n",
      "epoch 190, loss 0.0638, test loss 0.0683\n",
      "epoch 191, loss 0.0638, test loss 0.0683\n",
      "epoch 192, loss 0.0638, test loss 0.0683\n",
      "epoch 193, loss 0.0637, test loss 0.0683\n",
      "epoch 194, loss 0.0637, test loss 0.0682\n",
      "epoch 195, loss 0.0637, test loss 0.0682\n",
      "epoch 196, loss 0.0637, test loss 0.0682\n",
      "epoch 197, loss 0.0636, test loss 0.0682\n",
      "epoch 198, loss 0.0636, test loss 0.0681\n",
      "epoch 199, loss 0.0636, test loss 0.0681\n",
      "epoch 200, loss 0.0636, test loss 0.0681\n",
      "epoch 201, loss 0.0635, test loss 0.0681\n",
      "epoch 202, loss 0.0635, test loss 0.0680\n",
      "epoch 203, loss 0.0635, test loss 0.0680\n",
      "epoch 204, loss 0.0635, test loss 0.0680\n",
      "epoch 205, loss 0.0634, test loss 0.0680\n",
      "epoch 206, loss 0.0634, test loss 0.0679\n",
      "epoch 207, loss 0.0634, test loss 0.0679\n",
      "epoch 208, loss 0.0634, test loss 0.0679\n",
      "epoch 209, loss 0.0633, test loss 0.0679\n",
      "epoch 210, loss 0.0633, test loss 0.0679\n",
      "epoch 211, loss 0.0633, test loss 0.0678\n",
      "epoch 212, loss 0.0633, test loss 0.0678\n",
      "epoch 213, loss 0.0633, test loss 0.0678\n",
      "epoch 214, loss 0.0632, test loss 0.0678\n",
      "epoch 215, loss 0.0632, test loss 0.0678\n",
      "epoch 216, loss 0.0632, test loss 0.0677\n",
      "epoch 217, loss 0.0632, test loss 0.0677\n",
      "epoch 218, loss 0.0631, test loss 0.0677\n",
      "epoch 219, loss 0.0631, test loss 0.0677\n",
      "epoch 220, loss 0.0631, test loss 0.0676\n",
      "epoch 221, loss 0.0631, test loss 0.0676\n",
      "epoch 222, loss 0.0631, test loss 0.0676\n",
      "epoch 223, loss 0.0630, test loss 0.0676\n",
      "epoch 224, loss 0.0630, test loss 0.0676\n",
      "epoch 225, loss 0.0630, test loss 0.0675\n",
      "epoch 226, loss 0.0630, test loss 0.0675\n",
      "epoch 227, loss 0.0630, test loss 0.0675\n",
      "epoch 228, loss 0.0629, test loss 0.0675\n",
      "epoch 229, loss 0.0629, test loss 0.0675\n",
      "epoch 230, loss 0.0629, test loss 0.0674\n",
      "epoch 231, loss 0.0629, test loss 0.0674\n",
      "epoch 232, loss 0.0628, test loss 0.0674\n",
      "epoch 233, loss 0.0628, test loss 0.0674\n",
      "epoch 234, loss 0.0628, test loss 0.0674\n",
      "epoch 235, loss 0.0628, test loss 0.0673\n",
      "epoch 236, loss 0.0628, test loss 0.0673\n",
      "epoch 237, loss 0.0627, test loss 0.0673\n",
      "epoch 238, loss 0.0627, test loss 0.0673\n",
      "epoch 239, loss 0.0627, test loss 0.0673\n",
      "epoch 240, loss 0.0627, test loss 0.0672\n",
      "epoch 241, loss 0.0627, test loss 0.0672\n",
      "epoch 242, loss 0.0626, test loss 0.0672\n",
      "epoch 243, loss 0.0626, test loss 0.0672\n",
      "epoch 244, loss 0.0626, test loss 0.0672\n",
      "epoch 245, loss 0.0626, test loss 0.0671\n",
      "epoch 246, loss 0.0626, test loss 0.0671\n",
      "epoch 247, loss 0.0625, test loss 0.0671\n",
      "epoch 248, loss 0.0625, test loss 0.0671\n",
      "epoch 249, loss 0.0625, test loss 0.0671\n",
      "epoch 250, loss 0.0625, test loss 0.0671\n",
      "epoch 251, loss 0.0625, test loss 0.0670\n",
      "epoch 252, loss 0.0624, test loss 0.0670\n",
      "epoch 253, loss 0.0624, test loss 0.0670\n",
      "epoch 254, loss 0.0624, test loss 0.0670\n",
      "epoch 255, loss 0.0624, test loss 0.0670\n",
      "epoch 256, loss 0.0624, test loss 0.0669\n",
      "epoch 257, loss 0.0623, test loss 0.0669\n",
      "epoch 258, loss 0.0623, test loss 0.0669\n",
      "epoch 259, loss 0.0623, test loss 0.0669\n",
      "epoch 260, loss 0.0623, test loss 0.0669\n",
      "epoch 261, loss 0.0623, test loss 0.0669\n",
      "epoch 262, loss 0.0622, test loss 0.0668\n",
      "epoch 263, loss 0.0622, test loss 0.0668\n",
      "epoch 264, loss 0.0622, test loss 0.0668\n"
     ]
    },
    {
     "ename": "KeyboardInterrupt",
     "evalue": "",
     "output_type": "error",
     "traceback": [
      "\u001b[0;31m---------------------------------------------------------------------------\u001b[0m",
      "\u001b[0;31mKeyboardInterrupt\u001b[0m                         Traceback (most recent call last)",
      "Cell \u001b[0;32mIn[14], line 3\u001b[0m\n\u001b[1;32m      1\u001b[0m \u001b[38;5;28;01mfor\u001b[39;00m epoch \u001b[38;5;129;01min\u001b[39;00m \u001b[38;5;28mrange\u001b[39m(epochs):\n\u001b[1;32m      2\u001b[0m     cnt \u001b[38;5;241m=\u001b[39m \u001b[38;5;241m0\u001b[39m\n\u001b[0;32m----> 3\u001b[0m \u001b[43m    \u001b[49m\u001b[38;5;28;43;01mfor\u001b[39;49;00m\u001b[43m \u001b[49m\u001b[43mX\u001b[49m\u001b[43m,\u001b[49m\u001b[43m \u001b[49m\u001b[43mY\u001b[49m\u001b[43m \u001b[49m\u001b[38;5;129;43;01min\u001b[39;49;00m\u001b[43m \u001b[49m\u001b[43mtrain_loader\u001b[49m\u001b[43m:\u001b[49m\n\u001b[1;32m      4\u001b[0m \u001b[43m        \u001b[49m\u001b[43mloss\u001b[49m\u001b[43m \u001b[49m\u001b[38;5;241;43m=\u001b[39;49m\u001b[43m \u001b[49m\u001b[43mmodel\u001b[49m\u001b[38;5;241;43m.\u001b[39;49m\u001b[43mloss\u001b[49m\u001b[43m(\u001b[49m\u001b[43mmodel\u001b[49m\u001b[43m(\u001b[49m\u001b[43mX\u001b[49m\u001b[43m)\u001b[49m\u001b[43m,\u001b[49m\u001b[43m \u001b[49m\u001b[43mY\u001b[49m\u001b[43m)\u001b[49m\u001b[38;5;241;43m.\u001b[39;49m\u001b[43mmean\u001b[49m\u001b[43m(\u001b[49m\u001b[43m)\u001b[49m\n\u001b[1;32m      5\u001b[0m \u001b[43m        \u001b[49m\u001b[38;5;28;43;01mif\u001b[39;49;00m\u001b[43m \u001b[49m\u001b[43mcnt\u001b[49m\u001b[43m \u001b[49m\u001b[38;5;241;43m==\u001b[39;49m\u001b[43m \u001b[49m\u001b[38;5;241;43m0\u001b[39;49m\u001b[43m:\u001b[49m\n",
      "File \u001b[0;32m~/anaconda3/envs/NumericalMethod/lib/python3.12/site-packages/torch/utils/data/dataloader.py:631\u001b[0m, in \u001b[0;36m_BaseDataLoaderIter.__next__\u001b[0;34m(self)\u001b[0m\n\u001b[1;32m    628\u001b[0m \u001b[38;5;28;01mif\u001b[39;00m \u001b[38;5;28mself\u001b[39m\u001b[38;5;241m.\u001b[39m_sampler_iter \u001b[38;5;129;01mis\u001b[39;00m \u001b[38;5;28;01mNone\u001b[39;00m:\n\u001b[1;32m    629\u001b[0m     \u001b[38;5;66;03m# TODO(https://github.com/pytorch/pytorch/issues/76750)\u001b[39;00m\n\u001b[1;32m    630\u001b[0m     \u001b[38;5;28mself\u001b[39m\u001b[38;5;241m.\u001b[39m_reset()  \u001b[38;5;66;03m# type: ignore[call-arg]\u001b[39;00m\n\u001b[0;32m--> 631\u001b[0m data \u001b[38;5;241m=\u001b[39m \u001b[38;5;28;43mself\u001b[39;49m\u001b[38;5;241;43m.\u001b[39;49m\u001b[43m_next_data\u001b[49m\u001b[43m(\u001b[49m\u001b[43m)\u001b[49m\n\u001b[1;32m    632\u001b[0m \u001b[38;5;28mself\u001b[39m\u001b[38;5;241m.\u001b[39m_num_yielded \u001b[38;5;241m+\u001b[39m\u001b[38;5;241m=\u001b[39m \u001b[38;5;241m1\u001b[39m\n\u001b[1;32m    633\u001b[0m \u001b[38;5;28;01mif\u001b[39;00m \u001b[38;5;28mself\u001b[39m\u001b[38;5;241m.\u001b[39m_dataset_kind \u001b[38;5;241m==\u001b[39m _DatasetKind\u001b[38;5;241m.\u001b[39mIterable \u001b[38;5;129;01mand\u001b[39;00m \\\n\u001b[1;32m    634\u001b[0m         \u001b[38;5;28mself\u001b[39m\u001b[38;5;241m.\u001b[39m_IterableDataset_len_called \u001b[38;5;129;01mis\u001b[39;00m \u001b[38;5;129;01mnot\u001b[39;00m \u001b[38;5;28;01mNone\u001b[39;00m \u001b[38;5;129;01mand\u001b[39;00m \\\n\u001b[1;32m    635\u001b[0m         \u001b[38;5;28mself\u001b[39m\u001b[38;5;241m.\u001b[39m_num_yielded \u001b[38;5;241m>\u001b[39m \u001b[38;5;28mself\u001b[39m\u001b[38;5;241m.\u001b[39m_IterableDataset_len_called:\n",
      "File \u001b[0;32m~/anaconda3/envs/NumericalMethod/lib/python3.12/site-packages/torch/utils/data/dataloader.py:675\u001b[0m, in \u001b[0;36m_SingleProcessDataLoaderIter._next_data\u001b[0;34m(self)\u001b[0m\n\u001b[1;32m    673\u001b[0m \u001b[38;5;28;01mdef\u001b[39;00m \u001b[38;5;21m_next_data\u001b[39m(\u001b[38;5;28mself\u001b[39m):\n\u001b[1;32m    674\u001b[0m     index \u001b[38;5;241m=\u001b[39m \u001b[38;5;28mself\u001b[39m\u001b[38;5;241m.\u001b[39m_next_index()  \u001b[38;5;66;03m# may raise StopIteration\u001b[39;00m\n\u001b[0;32m--> 675\u001b[0m     data \u001b[38;5;241m=\u001b[39m \u001b[38;5;28;43mself\u001b[39;49m\u001b[38;5;241;43m.\u001b[39;49m\u001b[43m_dataset_fetcher\u001b[49m\u001b[38;5;241;43m.\u001b[39;49m\u001b[43mfetch\u001b[49m\u001b[43m(\u001b[49m\u001b[43mindex\u001b[49m\u001b[43m)\u001b[49m  \u001b[38;5;66;03m# may raise StopIteration\u001b[39;00m\n\u001b[1;32m    676\u001b[0m     \u001b[38;5;28;01mif\u001b[39;00m \u001b[38;5;28mself\u001b[39m\u001b[38;5;241m.\u001b[39m_pin_memory:\n\u001b[1;32m    677\u001b[0m         data \u001b[38;5;241m=\u001b[39m _utils\u001b[38;5;241m.\u001b[39mpin_memory\u001b[38;5;241m.\u001b[39mpin_memory(data, \u001b[38;5;28mself\u001b[39m\u001b[38;5;241m.\u001b[39m_pin_memory_device)\n",
      "File \u001b[0;32m~/anaconda3/envs/NumericalMethod/lib/python3.12/site-packages/torch/utils/data/_utils/fetch.py:51\u001b[0m, in \u001b[0;36m_MapDatasetFetcher.fetch\u001b[0;34m(self, possibly_batched_index)\u001b[0m\n\u001b[1;32m     49\u001b[0m         data \u001b[38;5;241m=\u001b[39m \u001b[38;5;28mself\u001b[39m\u001b[38;5;241m.\u001b[39mdataset\u001b[38;5;241m.\u001b[39m__getitems__(possibly_batched_index)\n\u001b[1;32m     50\u001b[0m     \u001b[38;5;28;01melse\u001b[39;00m:\n\u001b[0;32m---> 51\u001b[0m         data \u001b[38;5;241m=\u001b[39m [\u001b[38;5;28;43mself\u001b[39;49m\u001b[38;5;241;43m.\u001b[39;49m\u001b[43mdataset\u001b[49m\u001b[43m[\u001b[49m\u001b[43midx\u001b[49m\u001b[43m]\u001b[49m \u001b[38;5;28;01mfor\u001b[39;00m idx \u001b[38;5;129;01min\u001b[39;00m possibly_batched_index]\n\u001b[1;32m     52\u001b[0m \u001b[38;5;28;01melse\u001b[39;00m:\n\u001b[1;32m     53\u001b[0m     data \u001b[38;5;241m=\u001b[39m \u001b[38;5;28mself\u001b[39m\u001b[38;5;241m.\u001b[39mdataset[possibly_batched_index]\n",
      "File \u001b[0;32m~/anaconda3/envs/NumericalMethod/lib/python3.12/site-packages/torch/utils/data/dataset.py:209\u001b[0m, in \u001b[0;36mTensorDataset.__getitem__\u001b[0;34m(self, index)\u001b[0m\n\u001b[1;32m    208\u001b[0m \u001b[38;5;28;01mdef\u001b[39;00m \u001b[38;5;21m__getitem__\u001b[39m(\u001b[38;5;28mself\u001b[39m, index):\n\u001b[0;32m--> 209\u001b[0m     \u001b[38;5;28;01mreturn\u001b[39;00m \u001b[38;5;28;43mtuple\u001b[39;49m\u001b[43m(\u001b[49m\u001b[43mtensor\u001b[49m\u001b[43m[\u001b[49m\u001b[43mindex\u001b[49m\u001b[43m]\u001b[49m\u001b[43m \u001b[49m\u001b[38;5;28;43;01mfor\u001b[39;49;00m\u001b[43m \u001b[49m\u001b[43mtensor\u001b[49m\u001b[43m \u001b[49m\u001b[38;5;129;43;01min\u001b[39;49;00m\u001b[43m \u001b[49m\u001b[38;5;28;43mself\u001b[39;49m\u001b[38;5;241;43m.\u001b[39;49m\u001b[43mtensors\u001b[49m\u001b[43m)\u001b[49m\n",
      "File \u001b[0;32m~/anaconda3/envs/NumericalMethod/lib/python3.12/site-packages/torch/utils/data/dataset.py:209\u001b[0m, in \u001b[0;36m<genexpr>\u001b[0;34m(.0)\u001b[0m\n\u001b[1;32m    208\u001b[0m \u001b[38;5;28;01mdef\u001b[39;00m \u001b[38;5;21m__getitem__\u001b[39m(\u001b[38;5;28mself\u001b[39m, index):\n\u001b[0;32m--> 209\u001b[0m     \u001b[38;5;28;01mreturn\u001b[39;00m \u001b[38;5;28mtuple\u001b[39m(tensor[index] \u001b[38;5;28;01mfor\u001b[39;00m tensor \u001b[38;5;129;01min\u001b[39;00m \u001b[38;5;28mself\u001b[39m\u001b[38;5;241m.\u001b[39mtensors)\n",
      "\u001b[0;31mKeyboardInterrupt\u001b[0m: "
     ]
    }
   ],
   "source": [
    "for epoch in range(epochs):\n",
    "    cnt = 0\n",
    "    for X, Y in train_loader:\n",
    "        loss = model.loss(model(X), Y).mean()\n",
    "        if cnt == 0:\n",
    "            r = torch.exp(loss)\n",
    "            cnt = 1\n",
    "        loss.backward()\n",
    "        with torch.no_grad():\n",
    "            theta_w_1 = model.W.data\n",
    "            theta_a_1 = model.a.data\n",
    "            N_a = model.a.grad.clone()\n",
    "            N_w = model.W.grad.clone()\n",
    "            b_a = r * N_a / torch.exp(loss)\n",
    "            b_w = r * N_w / torch.exp(loss)\n",
    "            model.a.data = (theta_a_1 - lr * b_a) / (1 + lr * _lambda)\n",
    "            model.W.data = (theta_w_1 - lr * b_w) / (1 + lr * _lambda)\n",
    "            #=========Update SAV R================\n",
    "            r = torch.exp(torch.log(r) + torch.sum(b_a * (model.a - theta_a_1)) + torch.sum(b_w * (model.W - theta_w_1)))\n",
    "            model.a.grad.zero_()\n",
    "            model.W.grad.zero_()\n",
    "    with torch.no_grad():\n",
    "        train_loss = model.loss(model(X_train), Y_train).mean()\n",
    "        test_loss = model.loss(model(X_test), Y_test).mean()\n",
    "        train_losses.append(train_loss)\n",
    "        test_losses.append(test_loss)\n",
    "        norm = get_norm(model)\n",
    "        wandb.log({'epoch': epoch + 1,\n",
    "                   'train_loss': train_loss, \n",
    "                   'test_loss': test_loss,\n",
    "                   'norm_W': norm[0],\n",
    "                   'norm_a': norm[1],\n",
    "                   'accuracy': 1 - test_loss,\n",
    "                   'r': r.item()})\n",
    "        print(f'epoch {epoch + 1}, loss {train_loss:.8f}, test loss {test_loss:.8f}')"
   ]
  },
  {
   "cell_type": "code",
   "execution_count": 15,
   "metadata": {},
   "outputs": [
    {
     "data": {
      "text/html": [
       "<style>\n",
       "    table.wandb td:nth-child(1) { padding: 0 10px; text-align: left ; width: auto;} td:nth-child(2) {text-align: left ; width: 100%}\n",
       "    .wandb-row { display: flex; flex-direction: row; flex-wrap: wrap; justify-content: flex-start; width: 100% }\n",
       "    .wandb-col { display: flex; flex-direction: column; flex-basis: 100%; flex: 1; padding: 10px; }\n",
       "    </style>\n",
       "<div class=\"wandb-row\"><div class=\"wandb-col\"><h3>Run history:</h3><br/><table class=\"wandb\"><tr><td>accuracy</td><td>▁▂▃▄▄▅▆▆▇▇▇█████████████████████████████</td></tr><tr><td>epoch</td><td>▁▁▁▂▂▂▂▂▂▃▃▃▃▃▃▄▄▄▄▄▅▅▅▅▅▅▆▆▆▆▆▆▇▇▇▇▇███</td></tr><tr><td>norm_W</td><td>▁▁▁▂▂▃▃▄▄▅▅▆▆▆▇▇▇▇▇▇████████████████████</td></tr><tr><td>norm_a</td><td>▁▁▁▂▂▃▃▄▄▅▅▆▆▆▇▇▇▇▇▇████████████████████</td></tr><tr><td>r</td><td>██▃▆▄▄▃▃▂▂▂▁▁▁▁▁▁▁▁▁▁▁▁▁▁▁▁▁▁▁▁▁▁▁▁▁▁▁▁▁</td></tr><tr><td>test_loss</td><td>█▇▆▅▅▄▃▃▂▂▂▁▁▁▁▁▁▁▁▁▁▁▁▁▁▁▁▁▁▁▁▁▁▁▁▁▁▁▁▁</td></tr><tr><td>train_loss</td><td>█▇▆▅▅▄▃▃▂▂▂▁▁▁▁▁▁▁▁▁▁▁▁▁▁▁▁▁▁▁▁▁▁▁▁▁▁▁▁▁</td></tr></table><br/></div><div class=\"wandb-col\"><h3>Run summary:</h3><br/><table class=\"wandb\"><tr><td>accuracy</td><td>0.9332</td></tr><tr><td>epoch</td><td>264</td></tr><tr><td>norm_W</td><td>13.3976</td></tr><tr><td>norm_a</td><td>16.68236</td></tr><tr><td>r</td><td>1.05752</td></tr><tr><td>test_loss</td><td>0.0668</td></tr><tr><td>train_loss</td><td>0.06221</td></tr></table><br/></div></div>"
      ],
      "text/plain": [
       "<IPython.core.display.HTML object>"
      ]
     },
     "metadata": {},
     "output_type": "display_data"
    },
    {
     "data": {
      "text/html": [
       " View run <strong style=\"color:#cdcd00\">PM_ESAV_Example_2_08202136</strong> at: <a href='https://wandb.ai/pheonizard-university-of-nottingham/Numerical%20Method/runs/n2cydul8' target=\"_blank\">https://wandb.ai/pheonizard-university-of-nottingham/Numerical%20Method/runs/n2cydul8</a><br/> View project at: <a href='https://wandb.ai/pheonizard-university-of-nottingham/Numerical%20Method' target=\"_blank\">https://wandb.ai/pheonizard-university-of-nottingham/Numerical%20Method</a><br/>Synced 6 W&B file(s), 0 media file(s), 0 artifact file(s) and 0 other file(s)"
      ],
      "text/plain": [
       "<IPython.core.display.HTML object>"
      ]
     },
     "metadata": {},
     "output_type": "display_data"
    },
    {
     "data": {
      "text/html": [
       "Find logs at: <code>./wandb/run-20240820_213630-n2cydul8/logs</code>"
      ],
      "text/plain": [
       "<IPython.core.display.HTML object>"
      ]
     },
     "metadata": {},
     "output_type": "display_data"
    },
    {
     "data": {
      "text/html": [
       "The new W&B backend becomes opt-out in version 0.18.0; try it out with `wandb.require(\"core\")`! See https://wandb.me/wandb-core for more information."
      ],
      "text/plain": [
       "<IPython.core.display.HTML object>"
      ]
     },
     "metadata": {},
     "output_type": "display_data"
    }
   ],
   "source": [
    "wandb.finish()"
   ]
  }
 ],
 "metadata": {
  "kernelspec": {
   "display_name": "NumericalMethod",
   "language": "python",
   "name": "python3"
  },
  "language_info": {
   "codemirror_mode": {
    "name": "ipython",
    "version": 3
   },
   "file_extension": ".py",
   "mimetype": "text/x-python",
   "name": "python",
   "nbconvert_exporter": "python",
   "pygments_lexer": "ipython3",
   "version": "3.12.3"
  }
 },
 "nbformat": 4,
 "nbformat_minor": 2
}
