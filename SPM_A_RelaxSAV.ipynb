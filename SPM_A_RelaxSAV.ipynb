{
 "cells": [
  {
   "cell_type": "code",
   "execution_count": 1,
   "metadata": {
    "tags": []
   },
   "outputs": [],
   "source": [
    "import torch\n",
    "import torch.nn as nn\n",
    "import torch.optim as optim\n",
    "from torch.utils.data import DataLoader, TensorDataset\n",
    "import numpy as np\n",
    "import matplotlib.pyplot as plt\n",
    "import wandb"
   ]
  },
  {
   "cell_type": "code",
   "execution_count": 2,
   "metadata": {
    "tags": []
   },
   "outputs": [
    {
     "data": {
      "text/plain": [
       "device(type='cuda')"
      ]
     },
     "execution_count": 2,
     "metadata": {},
     "output_type": "execute_result"
    }
   ],
   "source": [
    "device = torch.device('cuda' if torch.cuda.is_available() else 'cpu')\n",
    "device"
   ]
  },
  {
   "cell_type": "code",
   "execution_count": 3,
   "metadata": {
    "tags": []
   },
   "outputs": [
    {
     "data": {
      "text/plain": [
       "(torch.Size([8000, 41]),\n",
       " torch.Size([8000]),\n",
       " torch.Size([2000, 41]),\n",
       " torch.Size([2000]))"
      ]
     },
     "execution_count": 3,
     "metadata": {},
     "output_type": "execute_result"
    }
   ],
   "source": [
    "X_train, Y_train, X_test, Y_test = torch.load('./data/dataset_2_40D.pt')\n",
    "\n",
    "# 将数据移动到适当的设备\n",
    "X_train = X_train.to(device)\n",
    "Y_train = Y_train.to(device)\n",
    "X_test = X_test.to(device)\n",
    "Y_test = Y_test.to(device)\n",
    "\n",
    "X_train.shape, Y_train.shape, X_test.shape, Y_test.shape"
   ]
  },
  {
   "cell_type": "code",
   "execution_count": 4,
   "metadata": {
    "tags": []
   },
   "outputs": [
    {
     "name": "stdout",
     "output_type": "stream",
     "text": [
      "torch.Size([64, 41]) torch.Size([64])\n"
     ]
    }
   ],
   "source": [
    "# 使用 DataLoader 进行批处理\n",
    "l = 64\n",
    "train_dataset = TensorDataset(X_train, Y_train)\n",
    "train_loader = DataLoader(train_dataset, batch_size=l, shuffle=True)\n",
    "\n",
    "# 打印第一个批次的大小\n",
    "for x, y in train_loader:\n",
    "    print(x.shape, y.shape)\n",
    "    break"
   ]
  },
  {
   "cell_type": "code",
   "execution_count": 5,
   "metadata": {
    "tags": []
   },
   "outputs": [],
   "source": [
    "D = 40\n",
    "m = 100"
   ]
  },
  {
   "cell_type": "code",
   "execution_count": 6,
   "metadata": {
    "tags": []
   },
   "outputs": [
    {
     "data": {
      "text/plain": [
       "(9.051899909973145, 13.263046264648438)"
      ]
     },
     "execution_count": 6,
     "metadata": {},
     "output_type": "execute_result"
    }
   ],
   "source": [
    "class Model(nn.Module):\n",
    "    def __init__(self, input, hidden_layer, output):\n",
    "        super(Model, self).__init__()\n",
    "        self.relu = nn.ReLU()\n",
    "        self.hidden_dim = hidden_layer\n",
    "        self.W = nn.Parameter(torch.rand(input, hidden_layer, device=device), requires_grad=True)\n",
    "        # HE初始化\n",
    "        nn.init.kaiming_normal_(self.W, mode='fan_in', nonlinearity='relu')\n",
    "        self.a = nn.Parameter(torch.rand(hidden_layer, output, device=device), requires_grad=True)\n",
    "        nn.init.kaiming_normal_(self.a, mode='fan_in', nonlinearity='relu')\n",
    "        \n",
    "    def forward(self, x):\n",
    "        # print(x.shape)\n",
    "        z1 = self.relu(torch.mm(x, self.W))\n",
    "        # print(z1.shape)\n",
    "        z2 = torch.mm(z1, self.a) / self.hidden_dim\n",
    "        return z2\n",
    "\n",
    "    def loss(self, y_pred, y_true):\n",
    "        return (y_pred - y_true.reshape(y_pred.shape)) ** 2\n",
    "\n",
    "model = Model(D + 1, m, 1).to(device)\n",
    "\n",
    "# 计算模型W和a的Norm\n",
    "def get_norm(model):\n",
    "    return torch.norm(model.W).item(), torch.norm(model.a).item()\n",
    "\n",
    "get_norm(model)"
   ]
  },
  {
   "cell_type": "code",
   "execution_count": 7,
   "metadata": {
    "tags": []
   },
   "outputs": [],
   "source": [
    "epochs = 10000\n",
    "lr = 1\n",
    "C = 1\n",
    "_lambda = 4\n",
    "r = 0\n",
    "epsilon = 1e-8\n",
    "beta_1 = 0.9\n",
    "beta_2 = 0.999\n",
    "J = 10\n",
    "h = 0.0001\n",
    "# Define the relax parameters \n",
    "r_wave = 0\n",
    "r_hat = 0\n",
    "r = 0\n",
    "a = 0\n",
    "b = 0\n",
    "c = 0\n",
    "ellipsis_0 = 0\n",
    "ratio_n = 0.99\n",
    "\n",
    "\n",
    "train_losses = []\n",
    "test_losses = []"
   ]
  },
  {
   "cell_type": "code",
   "execution_count": 8,
   "metadata": {
    "tags": []
   },
   "outputs": [],
   "source": [
    "config = {\n",
    "    'learning_rate': lr,\n",
    "    'batch_size': l,\n",
    "    'epochs': epochs,\n",
    "    'hidden_layer': m,\n",
    "    'input': D + 1,\n",
    "    'output': 1,\n",
    "    'J': J,\n",
    "    'h': h,\n",
    "    'optimizer': 'Adam_Relax_SAV',\n",
    "    'Approx Method': 'SPM',\n",
    "    'C': C,\n",
    "    '_lambda': _lambda,\n",
    "    'r': r,\n",
    "    'epsilon': epsilon,\n",
    "    'ratio_n': 0.99\n",
    "}"
   ]
  },
  {
   "cell_type": "code",
   "execution_count": 9,
   "metadata": {
    "tags": []
   },
   "outputs": [
    {
     "name": "stderr",
     "output_type": "stream",
     "text": [
      "Failed to detect the name of this notebook, you can set it manually with the WANDB_NOTEBOOK_NAME environment variable to enable code saving.\n",
      "\u001b[34m\u001b[1mwandb\u001b[0m: Currently logged in as: \u001b[33mpheonizard\u001b[0m (\u001b[33mpheonizard-university-of-nottingham\u001b[0m). Use \u001b[1m`wandb login --relogin`\u001b[0m to force relogin\n"
     ]
    },
    {
     "data": {
      "application/vnd.jupyter.widget-view+json": {
       "model_id": "e55845adb8744bb9b6c70bb945580aec",
       "version_major": 2,
       "version_minor": 0
      },
      "text/plain": [
       "VBox(children=(Label(value='Waiting for wandb.init()...\\r'), FloatProgress(value=0.011112421192228794, max=1.0…"
      ]
     },
     "metadata": {},
     "output_type": "display_data"
    }
   ],
   "source": [
    "import datetime\n",
    "\n",
    "date = datetime.datetime.now().strftime(\"%m%d%H%M\")\n",
    "wandb.init(project='Numerical Method', \n",
    "           name=f\"SPM_A_RelaxSAV_Example_2_{date}\", \n",
    "           config=config,\n",
    "           notes=\"修正了大多问题，希望能够正常运行\")"
   ]
  },
  {
   "cell_type": "code",
   "execution_count": null,
   "metadata": {
    "scrolled": true,
    "tags": []
   },
   "outputs": [
    {
     "name": "stderr",
     "output_type": "stream",
     "text": [
      "/tmp/ipykernel_9859/399161530.py:14: UserWarning: To copy construct from a tensor, it is recommended to use sourceTensor.clone().detach() or sourceTensor.clone().detach().requires_grad_(True), rather than torch.tensor(sourceTensor).\n",
      "  r = torch.sqrt(torch.tensor(loss + C, device=device))\n"
     ]
    },
    {
     "name": "stdout",
     "output_type": "stream",
     "text": [
      "epoch 1, loss 0.570264, test loss 0.587395\n",
      "epoch 2, loss 0.266627, test loss 0.278476\n",
      "epoch 3, loss 0.121670, test loss 0.130181\n",
      "epoch 4, loss 0.078118, test loss 0.085130\n",
      "epoch 5, loss 0.067929, test loss 0.074281\n",
      "epoch 6, loss 0.065329, test loss 0.071407\n",
      "epoch 7, loss 0.064236, test loss 0.070134\n",
      "epoch 8, loss 0.063487, test loss 0.069319\n",
      "epoch 9, loss 0.062878, test loss 0.068669\n",
      "epoch 10, loss 0.062307, test loss 0.068108\n",
      "epoch 11, loss 0.061783, test loss 0.067522\n",
      "epoch 12, loss 0.061287, test loss 0.067057\n",
      "epoch 13, loss 0.060817, test loss 0.066604\n",
      "epoch 14, loss 0.060368, test loss 0.066274\n",
      "epoch 15, loss 0.059923, test loss 0.065862\n",
      "epoch 16, loss 0.059490, test loss 0.065445\n",
      "epoch 17, loss 0.059061, test loss 0.065073\n",
      "epoch 18, loss 0.058637, test loss 0.064705\n",
      "epoch 19, loss 0.058218, test loss 0.064308\n",
      "epoch 20, loss 0.057806, test loss 0.063939\n",
      "epoch 21, loss 0.057394, test loss 0.063567\n",
      "epoch 22, loss 0.056996, test loss 0.063150\n",
      "epoch 23, loss 0.056590, test loss 0.062852\n",
      "epoch 24, loss 0.056186, test loss 0.062544\n",
      "epoch 25, loss 0.055791, test loss 0.062189\n",
      "epoch 26, loss 0.055394, test loss 0.061803\n",
      "epoch 27, loss 0.055006, test loss 0.061471\n",
      "epoch 28, loss 0.054623, test loss 0.061097\n",
      "epoch 29, loss 0.054236, test loss 0.060838\n",
      "epoch 30, loss 0.053862, test loss 0.060445\n",
      "epoch 31, loss 0.053481, test loss 0.060103\n",
      "epoch 32, loss 0.053110, test loss 0.059775\n",
      "epoch 33, loss 0.052738, test loss 0.059390\n",
      "epoch 34, loss 0.052367, test loss 0.059059\n",
      "epoch 35, loss 0.052001, test loss 0.058729\n",
      "epoch 36, loss 0.051635, test loss 0.058373\n",
      "epoch 37, loss 0.051277, test loss 0.058085\n",
      "epoch 38, loss 0.050925, test loss 0.057785\n",
      "epoch 39, loss 0.050568, test loss 0.057536\n",
      "epoch 40, loss 0.050218, test loss 0.057198\n",
      "epoch 41, loss 0.049865, test loss 0.056922\n",
      "epoch 42, loss 0.049513, test loss 0.056593\n",
      "epoch 43, loss 0.049169, test loss 0.056268\n",
      "epoch 44, loss 0.048819, test loss 0.055928\n",
      "epoch 45, loss 0.048471, test loss 0.055653\n",
      "epoch 46, loss 0.048121, test loss 0.055263\n"
     ]
    },
    {
     "ename": "KeyboardInterrupt",
     "evalue": "",
     "output_type": "error",
     "traceback": [
      "\u001b[0;31m---------------------------------------------------------------------------\u001b[0m",
      "\u001b[0;31mKeyboardInterrupt\u001b[0m                         Traceback (most recent call last)",
      "Cell \u001b[0;32mIn[11], line 10\u001b[0m\n\u001b[1;32m      8\u001b[0m     \u001b[38;5;28;01mfor\u001b[39;00m param \u001b[38;5;129;01min\u001b[39;00m model\u001b[38;5;241m.\u001b[39mparameters():\n\u001b[1;32m      9\u001b[0m         param\u001b[38;5;241m.\u001b[39mdata \u001b[38;5;241m+\u001b[39m\u001b[38;5;241m=\u001b[39m h \u001b[38;5;241m*\u001b[39m torch\u001b[38;5;241m.\u001b[39mrandn_like(param)\n\u001b[0;32m---> 10\u001b[0m     loss \u001b[38;5;241m+\u001b[39m\u001b[38;5;241m=\u001b[39m \u001b[43mmodel\u001b[49m\u001b[38;5;241;43m.\u001b[39;49m\u001b[43mloss\u001b[49m\u001b[43m(\u001b[49m\u001b[43mmodel\u001b[49m\u001b[43m(\u001b[49m\u001b[43mX\u001b[49m\u001b[43m)\u001b[49m\u001b[43m,\u001b[49m\u001b[43m \u001b[49m\u001b[43mY\u001b[49m\u001b[43m)\u001b[49m\u001b[38;5;241m.\u001b[39mmean()\n\u001b[1;32m     11\u001b[0m     model\u001b[38;5;241m.\u001b[39mW\u001b[38;5;241m.\u001b[39mdata, model\u001b[38;5;241m.\u001b[39ma\u001b[38;5;241m.\u001b[39mdata \u001b[38;5;241m=\u001b[39m original_params\n\u001b[1;32m     12\u001b[0m loss \u001b[38;5;241m/\u001b[39m\u001b[38;5;241m=\u001b[39m J \n",
      "Cell \u001b[0;32mIn[6], line 20\u001b[0m, in \u001b[0;36mModel.loss\u001b[0;34m(self, y_pred, y_true)\u001b[0m\n\u001b[1;32m     19\u001b[0m \u001b[38;5;28;01mdef\u001b[39;00m \u001b[38;5;21mloss\u001b[39m(\u001b[38;5;28mself\u001b[39m, y_pred, y_true):\n\u001b[0;32m---> 20\u001b[0m     \u001b[38;5;28;01mreturn\u001b[39;00m (\u001b[43my_pred\u001b[49m\u001b[43m \u001b[49m\u001b[38;5;241;43m-\u001b[39;49m\u001b[43m \u001b[49m\u001b[43my_true\u001b[49m\u001b[38;5;241;43m.\u001b[39;49m\u001b[43mreshape\u001b[49m\u001b[43m(\u001b[49m\u001b[43my_pred\u001b[49m\u001b[38;5;241;43m.\u001b[39;49m\u001b[43mshape\u001b[49m\u001b[43m)\u001b[49m) \u001b[38;5;241m*\u001b[39m\u001b[38;5;241m*\u001b[39m \u001b[38;5;241m2\u001b[39m\n",
      "\u001b[0;31mKeyboardInterrupt\u001b[0m: "
     ]
    }
   ],
   "source": [
    "for epoch in range(epochs):\n",
    "    cnt = 0\n",
    "    m_a, m_w, v = 0, 0, 0\n",
    "    for X, Y in train_loader:\n",
    "        loss = 0\n",
    "        for j in range(J):\n",
    "            original_params = [model.W.clone(), model.a.clone()]\n",
    "            for param in model.parameters():\n",
    "                param.data += h * torch.randn_like(param)\n",
    "            loss += model.loss(model(X), Y).mean()\n",
    "            model.W.data, model.a.data = original_params\n",
    "        loss /= J \n",
    "        if cnt == 0:\n",
    "            r = torch.sqrt(torch.tensor(loss + C, device=device))\n",
    "        loss.backward()\n",
    "        with torch.no_grad():\n",
    "            #=========Nonlinear Term==========\n",
    "            N_a_init = model.a.grad\n",
    "            N_w_init = model.W.grad\n",
    "            m_a = beta_1 * m_a + (1 - beta_1) * N_a_init\n",
    "            m_w = beta_1 * m_w + (1 - beta_1) * N_w_init\n",
    "            v = beta_2 * v + (1 - beta_2) * (torch.norm(N_a_init) ** 2 + torch.norm(N_w_init) ** 2)\n",
    "            m_a_hat = m_a / (1 - beta_1 ** (cnt + 1))\n",
    "            m_w_hat = m_w / (1 - beta_1 ** (cnt + 1))\n",
    "            v_hat = v / (1 - beta_2 ** (cnt + 1))\n",
    "            N_a = m_a_hat\n",
    "            N_w = m_w_hat\n",
    "            #=========Time Step Update========\n",
    "            adaptive_lr = lr / (torch.sqrt(v_hat) + epsilon)\n",
    "            #=========SAV Update========== \n",
    "            theta_a_1 = model.a.clone()\n",
    "            theta_w_1 = model.W.clone()\n",
    "            theta_a_2 = - adaptive_lr * N_a / (torch.sqrt(loss + C) * (1 + adaptive_lr * _lambda))\n",
    "            theta_w_2 = - adaptive_lr * N_w / (torch.sqrt(loss + C) * (1 + adaptive_lr * _lambda))\n",
    "            r_wave = r / (1 + adaptive_lr * (torch.sum(N_a * (N_a / (1 + adaptive_lr * _lambda))) + torch.sum(N_w * (N_w) / (1 + adaptive_lr * _lambda))) / (2 * (loss + C)))\n",
    "            model.a += r_wave.item() * theta_a_2\n",
    "            model.W += r_wave.item() * theta_w_2\n",
    "            model.a.grad.zero_()\n",
    "            model.W.grad.zero_()\n",
    "            #=========Relax Update==========\n",
    "            tmp_loss = model.loss(model(X), Y).mean()\n",
    "            r_hat = torch.sqrt(tmp_loss + C)\n",
    "            a = (r_wave - r_hat) ** 2\n",
    "            b = 2 * r_hat * (r_wave - r_hat)\n",
    "            c = r_hat ** 2 - r_wave ** 2 - ratio_n * (torch.norm(model.a - theta_a_1) ** 2 + torch.norm(model.W - theta_w_1) ** 2) / adaptive_lr\n",
    "            if a == 0:\n",
    "                # 为什么会出现a=0的情况\n",
    "                print('a == 0')\n",
    "                ellipsis_0 = 1\n",
    "            elif (b ** 2 - 4 * a * c) < 0:\n",
    "                ellipsis_0 = 1\n",
    "                print('b^2 - 4ac < 0')\n",
    "            else: \n",
    "                ellipsis_0 = max((-b - torch.sqrt(b ** 2 - 4 * a * c)) / (2 * a), 0)\n",
    "            r = ellipsis_0 * r_wave + (1 - ellipsis_0) * r_hat\n",
    "            if torch.isnan(r_wave) or torch.isnan(r_hat) or torch.isnan(a) or torch.isnan(b) or torch.isnan(c):\n",
    "                raise ValueError('nan')\n",
    "            cnt += 1\n",
    "            \n",
    "\n",
    "    with torch.no_grad():\n",
    "        train_loss = model.loss(model(X_train), Y_train).mean()\n",
    "        test_loss = model.loss(model(X_test), Y_test).mean()\n",
    "        train_losses.append(train_loss)\n",
    "        test_losses.append(test_loss)\n",
    "        norm = get_norm(model)\n",
    "        wandb.log({'epoch': epoch + 1,\n",
    "                   'train_loss': train_loss, \n",
    "                   'test_loss': test_loss,\n",
    "                   'norm_W': norm[0],\n",
    "                   'norm_a': norm[1],\n",
    "                   'accuracy': 1 - test_loss,\n",
    "                   'r': r.item(),\n",
    "                   'adaptive_lr': adaptive_lr.item(),\n",
    "                   'r_wave': r_wave.item(),\n",
    "                   'r_hat': r_hat.item(),\n",
    "                   'a': a.item(),\n",
    "                   'b': b.item(),\n",
    "                   'c': c.item(),\n",
    "                   'ellipsis_0': ellipsis_0})\n",
    "        print(f'epoch {epoch + 1}, loss {train_loss:.6f}, test loss {test_loss:.6f}')"
   ]
  },
  {
   "cell_type": "code",
   "execution_count": null,
   "metadata": {
    "tags": []
   },
   "outputs": [
    {
     "data": {
      "application/vnd.jupyter.widget-view+json": {
       "model_id": "0393477d2d40463689538d04de10d51b",
       "version_major": 2,
       "version_minor": 0
      },
      "text/plain": [
       "VBox(children=(Label(value='0.012 MB of 0.022 MB uploaded\\r'), FloatProgress(value=0.5339011925042589, max=1.0…"
      ]
     },
     "metadata": {},
     "output_type": "display_data"
    },
    {
     "data": {
      "text/html": [
       "<style>\n",
       "    table.wandb td:nth-child(1) { padding: 0 10px; text-align: left ; width: auto;} td:nth-child(2) {text-align: left ; width: 100%}\n",
       "    .wandb-row { display: flex; flex-direction: row; flex-wrap: wrap; justify-content: flex-start; width: 100% }\n",
       "    .wandb-col { display: flex; flex-direction: column; flex-basis: 100%; flex: 1; padding: 10px; }\n",
       "    </style>\n",
       "<div class=\"wandb-row\"><div class=\"wandb-col\"><h3>Run history:</h3><br/><table class=\"wandb\"><tr><td>a</td><td>█▄▃▂▂▁▁▂▁▁▁▁▁▁▁▁▁▁▁▁▁▁▁▁▁▁▁▁▁▁▁▁▁▁▁▁▁▁▁▁</td></tr><tr><td>accuracy</td><td>▁▅▇█████████████████████████████████████</td></tr><tr><td>adaptive_lr</td><td>▁▂▃▅▆▇▇▇▇▇▇▇▇▇▇▇▇▇▇▇▇▇▇█████████████████</td></tr><tr><td>b</td><td>▁▄▅▆▆▇▇▆▇▇█▇▇▇█▇███▇████▇█▇▇▇▇█▇████████</td></tr><tr><td>c</td><td>█▅▄▃▃▂▂▃▂▂▁▂▂▂▁▂▁▁▁▂▁▁▁▁▂▁▂▂▂▂▁▂▁▁▁▁▁▁▁▁</td></tr><tr><td>ellipsis_0</td><td>▁▁▆▇██████████▇█▇███▇██▇████████████▇███</td></tr><tr><td>epoch</td><td>▁▁▁▁▂▂▂▂▂▃▃▃▃▃▄▄▄▄▄▄▅▅▅▅▅▅▆▆▆▆▆▇▇▇▇▇████</td></tr><tr><td>norm_W</td><td>▁▃▄▅▆▆▆▆▆▆▇▇▇▇▇▇▇▇▇▇▇▇▇▇▇▇▇▇▇▇▇█████████</td></tr><tr><td>norm_a</td><td>▁▃▄▅▆▆▆▆▆▆▆▆▇▇▇▇▇▇▇▇▇▇▇▇▇▇▇▇▇▇▇█████████</td></tr><tr><td>r</td><td>█▃▁▂▁▁▁▁▁▁▁▁▁▁▁▁▁▁▁▁▁▁▁▁▁▁▁▁▁▁▁▁▁▁▁▁▁▁▁▁</td></tr><tr><td>r_hat</td><td>█▄▃▂▂▂▁▂▂▂▁▁▁▂▁▂▁▁▁▂▁▁▁▁▁▁▁▂▁▁▁▁▁▁▁▁▁▁▁▁</td></tr><tr><td>r_wave</td><td>█▃▁▂▁▁▁▁▁▁▁▁▁▁▁▁▁▁▁▁▁▁▁▁▁▁▁▁▁▁▁▁▁▁▁▁▁▁▁▁</td></tr><tr><td>test_loss</td><td>█▄▂▁▁▁▁▁▁▁▁▁▁▁▁▁▁▁▁▁▁▁▁▁▁▁▁▁▁▁▁▁▁▁▁▁▁▁▁▁</td></tr><tr><td>train_loss</td><td>█▄▂▁▁▁▁▁▁▁▁▁▁▁▁▁▁▁▁▁▁▁▁▁▁▁▁▁▁▁▁▁▁▁▁▁▁▁▁▁</td></tr></table><br/></div><div class=\"wandb-col\"><h3>Run summary:</h3><br/><table class=\"wandb\"><tr><td>a</td><td>4e-05</td></tr><tr><td>accuracy</td><td>0.94474</td></tr><tr><td>adaptive_lr</td><td>20.85179</td></tr><tr><td>b</td><td>-0.01259</td></tr><tr><td>c</td><td>0.01255</td></tr><tr><td>ellipsis_0</td><td>0.99998</td></tr><tr><td>epoch</td><td>46</td></tr><tr><td>norm_W</td><td>14.23516</td></tr><tr><td>norm_a</td><td>17.85828</td></tr><tr><td>r</td><td>1.01368</td></tr><tr><td>r_hat</td><td>1.01985</td></tr><tr><td>r_wave</td><td>1.01368</td></tr><tr><td>test_loss</td><td>0.05526</td></tr><tr><td>train_loss</td><td>0.04812</td></tr></table><br/></div></div>"
      ],
      "text/plain": [
       "<IPython.core.display.HTML object>"
      ]
     },
     "metadata": {},
     "output_type": "display_data"
    },
    {
     "data": {
      "text/html": [
       " View run <strong style=\"color:#cdcd00\">SPM_A_RelaxSAV_Example_2_08081844</strong> at: <a href='https://wandb.ai/pheonizard-university-of-nottingham/Numerical%20Method/runs/u4jq6aym' target=\"_blank\">https://wandb.ai/pheonizard-university-of-nottingham/Numerical%20Method/runs/u4jq6aym</a><br/> View project at: <a href='https://wandb.ai/pheonizard-university-of-nottingham/Numerical%20Method' target=\"_blank\">https://wandb.ai/pheonizard-university-of-nottingham/Numerical%20Method</a><br/>Synced 6 W&B file(s), 0 media file(s), 0 artifact file(s) and 0 other file(s)"
      ],
      "text/plain": [
       "<IPython.core.display.HTML object>"
      ]
     },
     "metadata": {},
     "output_type": "display_data"
    },
    {
     "data": {
      "text/html": [
       "Find logs at: <code>./wandb/run-20240808_184457-u4jq6aym/logs</code>"
      ],
      "text/plain": [
       "<IPython.core.display.HTML object>"
      ]
     },
     "metadata": {},
     "output_type": "display_data"
    },
    {
     "data": {
      "text/html": [
       "The new W&B backend becomes opt-out in version 0.18.0; try it out with `wandb.require(\"core\")`! See https://wandb.me/wandb-core for more information."
      ],
      "text/plain": [
       "<IPython.core.display.HTML object>"
      ]
     },
     "metadata": {},
     "output_type": "display_data"
    }
   ],
   "source": [
    "wandb.finish()"
   ]
  }
 ],
 "metadata": {
  "kernelspec": {
   "display_name": "Python 3 (ipykernel)",
   "language": "python",
   "name": "python3"
  },
  "language_info": {
   "codemirror_mode": {
    "name": "ipython",
    "version": 3
   },
   "file_extension": ".py",
   "mimetype": "text/x-python",
   "name": "python",
   "nbconvert_exporter": "python",
   "pygments_lexer": "ipython3",
   "version": "3.8.10"
  }
 },
 "nbformat": 4,
 "nbformat_minor": 4
}
