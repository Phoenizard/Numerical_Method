{
 "cells": [
  {
   "cell_type": "code",
   "execution_count": 1,
   "metadata": {},
   "outputs": [],
   "source": [
    "import torch\n",
    "import torch.nn as nn\n",
    "import torch.optim as optim\n",
    "\n",
    "from torch.utils.data import DataLoader, TensorDataset\n",
    "import numpy as np\n",
    "import matplotlib.pyplot as plt\n",
    "import wandb"
   ]
  },
  {
   "cell_type": "code",
   "execution_count": 2,
   "metadata": {},
   "outputs": [
    {
     "data": {
      "text/plain": [
       "device(type='cuda')"
      ]
     },
     "execution_count": 2,
     "metadata": {},
     "output_type": "execute_result"
    }
   ],
   "source": [
    "device = torch.device('cuda' if torch.cuda.is_available() else 'cpu')\n",
    "device"
   ]
  },
  {
   "cell_type": "code",
   "execution_count": 3,
   "metadata": {},
   "outputs": [
    {
     "data": {
      "text/plain": [
       "(torch.Size([8000, 41]),\n",
       " torch.Size([8000]),\n",
       " torch.Size([2000, 41]),\n",
       " torch.Size([2000]))"
      ]
     },
     "execution_count": 3,
     "metadata": {},
     "output_type": "execute_result"
    }
   ],
   "source": [
    "X_train, Y_train, X_test, Y_test = torch.load('./data/dataset_2_40D.pt')\n",
    "\n",
    "# 将数据移动到适当的设备\n",
    "X_train = X_train.to(device)\n",
    "Y_train = Y_train.to(device)\n",
    "X_test = X_test.to(device)\n",
    "Y_test = Y_test.to(device)\n",
    "\n",
    "X_train.shape, Y_train.shape, X_test.shape, Y_test.shape"
   ]
  },
  {
   "cell_type": "code",
   "execution_count": 4,
   "metadata": {},
   "outputs": [
    {
     "name": "stdout",
     "output_type": "stream",
     "text": [
      "torch.Size([64, 41]) torch.Size([64])\n"
     ]
    }
   ],
   "source": [
    "# 使用 DataLoader 进行批处理\n",
    "l = 64\n",
    "train_dataset = TensorDataset(X_train, Y_train)\n",
    "train_loader = DataLoader(train_dataset, batch_size=l, shuffle=True)\n",
    "\n",
    "# 打印第一个批次的大小\n",
    "for x, y in train_loader:\n",
    "    print(x.shape, y.shape)\n",
    "    break"
   ]
  },
  {
   "cell_type": "code",
   "execution_count": 5,
   "metadata": {},
   "outputs": [],
   "source": [
    "D = 40\n",
    "m = 100"
   ]
  },
  {
   "cell_type": "code",
   "execution_count": 6,
   "metadata": {},
   "outputs": [
    {
     "data": {
      "text/plain": [
       "(9.233951568603516, 15.293822288513184)"
      ]
     },
     "execution_count": 6,
     "metadata": {},
     "output_type": "execute_result"
    }
   ],
   "source": [
    "class PM_Euler(nn.Module):\n",
    "    def __init__(self, input, hidden_layer, output):\n",
    "        super(PM_Euler, self).__init__()\n",
    "        self.relu = nn.ReLU()\n",
    "        self.hidden_dim = hidden_layer\n",
    "        self.W = nn.Parameter(torch.rand(input, hidden_layer, device=device), requires_grad=True)\n",
    "        # HE初始化\n",
    "        nn.init.kaiming_normal_(self.W, mode='fan_in', nonlinearity='relu')\n",
    "        self.a = nn.Parameter(torch.rand(hidden_layer, output, device=device), requires_grad=True)\n",
    "        nn.init.kaiming_normal_(self.a, mode='fan_in', nonlinearity='relu')\n",
    "        \n",
    "    def forward(self, x):\n",
    "        # print(x.shape)\n",
    "        z1 = self.relu(torch.mm(x, self.W))\n",
    "        # print(z1.shape)\n",
    "        z2 = torch.mm(z1, self.a) / self.hidden_dim\n",
    "        return z2\n",
    "\n",
    "    def loss(self, y_pred, y_true):\n",
    "        return (y_pred - y_true.reshape(y_pred.shape)) ** 2\n",
    "model = PM_Euler(D + 1, m, 1).to(device)\n",
    "\n",
    "\n",
    "# 计算模型W和a的Norm\n",
    "def get_norm(model):\n",
    "    return torch.norm(model.W).item(), torch.norm(model.a).item()\n",
    "\n",
    "get_norm(model)"
   ]
  },
  {
   "cell_type": "code",
   "execution_count": 7,
   "metadata": {},
   "outputs": [],
   "source": [
    "epochs = 10000\n",
    "lr = 1\n",
    "C = 1\n",
    "_lambda = 4\n",
    "# Define the relax parameters \n",
    "r_wave = 0\n",
    "r_hat = 0\n",
    "r = 0\n",
    "a = 0\n",
    "b = 0\n",
    "c = 0\n",
    "ellipsis_0 = 0\n",
    "ratio_n = 0.99\n",
    "\n",
    "train_losses = []\n",
    "test_losses = []"
   ]
  },
  {
   "cell_type": "code",
   "execution_count": 8,
   "metadata": {},
   "outputs": [],
   "source": [
    "config = {\n",
    "    'learning_rate': lr,\n",
    "    'batch_size': l,\n",
    "    'epochs': epochs,\n",
    "    'hidden_layer': m,\n",
    "    'input': D + 1,\n",
    "    'output': 1,\n",
    "    'optimizer': 'RelaxedSAV',\n",
    "    'C': C,\n",
    "    '_lambda': _lambda,\n",
    "    'ratio_n': 0.99\n",
    "}"
   ]
  },
  {
   "cell_type": "code",
   "execution_count": 9,
   "metadata": {},
   "outputs": [
    {
     "name": "stderr",
     "output_type": "stream",
     "text": [
      "Failed to detect the name of this notebook, you can set it manually with the WANDB_NOTEBOOK_NAME environment variable to enable code saving.\n",
      "\u001b[34m\u001b[1mwandb\u001b[0m: Currently logged in as: \u001b[33mpheonizard\u001b[0m (\u001b[33mpheonizard-university-of-nottingham\u001b[0m). Use \u001b[1m`wandb login --relogin`\u001b[0m to force relogin\n"
     ]
    },
    {
     "data": {
      "text/html": [
       "Tracking run with wandb version 0.17.5"
      ],
      "text/plain": [
       "<IPython.core.display.HTML object>"
      ]
     },
     "metadata": {},
     "output_type": "display_data"
    },
    {
     "data": {
      "text/html": [
       "Run data is saved locally in <code>/root/workspace/Numerical_Method/wandb/run-20240807_211725-59d2q2wh</code>"
      ],
      "text/plain": [
       "<IPython.core.display.HTML object>"
      ]
     },
     "metadata": {},
     "output_type": "display_data"
    },
    {
     "data": {
      "text/html": [
       "Syncing run <strong><a href='https://wandb.ai/pheonizard-university-of-nottingham/Numerical%20Method/runs/59d2q2wh' target=\"_blank\">PM_RelaxedSAV_sum_Example_2_test_08072117</a></strong> to <a href='https://wandb.ai/pheonizard-university-of-nottingham/Numerical%20Method' target=\"_blank\">Weights & Biases</a> (<a href='https://wandb.me/run' target=\"_blank\">docs</a>)<br/>"
      ],
      "text/plain": [
       "<IPython.core.display.HTML object>"
      ]
     },
     "metadata": {},
     "output_type": "display_data"
    },
    {
     "data": {
      "text/html": [
       " View project at <a href='https://wandb.ai/pheonizard-university-of-nottingham/Numerical%20Method' target=\"_blank\">https://wandb.ai/pheonizard-university-of-nottingham/Numerical%20Method</a>"
      ],
      "text/plain": [
       "<IPython.core.display.HTML object>"
      ]
     },
     "metadata": {},
     "output_type": "display_data"
    },
    {
     "data": {
      "text/html": [
       " View run at <a href='https://wandb.ai/pheonizard-university-of-nottingham/Numerical%20Method/runs/59d2q2wh' target=\"_blank\">https://wandb.ai/pheonizard-university-of-nottingham/Numerical%20Method/runs/59d2q2wh</a>"
      ],
      "text/plain": [
       "<IPython.core.display.HTML object>"
      ]
     },
     "metadata": {},
     "output_type": "display_data"
    },
    {
     "data": {
      "text/html": [
       "<button onClick=\"this.nextSibling.style.display='block';this.style.display='none';\">Display W&B run</button><iframe src='https://wandb.ai/pheonizard-university-of-nottingham/Numerical%20Method/runs/59d2q2wh?jupyter=true' style='border:none;width:100%;height:420px;display:none;'></iframe>"
      ],
      "text/plain": [
       "<wandb.sdk.wandb_run.Run at 0x7fbaee4239a0>"
      ]
     },
     "execution_count": 9,
     "metadata": {},
     "output_type": "execute_result"
    }
   ],
   "source": [
    "import datetime\n",
    "\n",
    "date = datetime.datetime.now().strftime(\"%m%d%H%M\")\n",
    "wandb.init(project='Numerical Method', name=f\"PM_RelaxedSAV_sum_Example_2_test_{date}\", config=config)"
   ]
  },
  {
   "cell_type": "code",
   "execution_count": 1,
   "metadata": {},
   "outputs": [
    {
     "ename": "NameError",
     "evalue": "name 'epochs' is not defined",
     "output_type": "error",
     "traceback": [
      "\u001b[0;31m---------------------------------------------------------------------------\u001b[0m",
      "\u001b[0;31mNameError\u001b[0m                                 Traceback (most recent call last)",
      "Cell \u001b[0;32mIn[1], line 1\u001b[0m\n\u001b[0;32m----> 1\u001b[0m \u001b[38;5;28;01mfor\u001b[39;00m epoch \u001b[38;5;129;01min\u001b[39;00m \u001b[38;5;28mrange\u001b[39m(\u001b[43mepochs\u001b[49m):\n\u001b[1;32m      2\u001b[0m     cnt \u001b[38;5;241m=\u001b[39m \u001b[38;5;241m0\u001b[39m\n\u001b[1;32m      3\u001b[0m     \u001b[38;5;28;01mfor\u001b[39;00m X, Y \u001b[38;5;129;01min\u001b[39;00m train_loader:\n",
      "\u001b[0;31mNameError\u001b[0m: name 'epochs' is not defined"
     ]
    }
   ],
   "source": [
    "for epoch in range(epochs):\n",
    "    cnt = 0\n",
    "    for X, Y in train_loader:\n",
    "        y_pred = model(X)\n",
    "        loss = model.loss(y_pred, Y).sum()\n",
    "        if cnt == 0:\n",
    "            r = torch.tensor(torch.sqrt(loss + C))\n",
    "            cnt = 1\n",
    "        loss.backward()\n",
    "        with torch.no_grad():\n",
    "            #===============Update the parameters in SAV================\n",
    "            N_a = model.a.grad.clone()\n",
    "            N_w = model.W.grad.clone()\n",
    "            theta_a_2 = lr * N_a / (torch.sqrt(loss + C) * (1 + lr * _lambda))\n",
    "            theta_w_2 = lr * N_w / (torch.sqrt(loss + C) * (1 + lr * _lambda))\n",
    "            r_wave = r / (1 + lr * (torch.sum(N_a * (N_a / (1 + lr * _lambda))) + torch.sum(N_w * (N_w) / (1 + lr * _lambda))) / (2 * (loss + C)))\n",
    "            model.a -= r_wave.item() * theta_a_2\n",
    "            model.W -= r_wave.item() * theta_w_2\n",
    "            model.a.grad.zero_()\n",
    "            model.W.grad.zero_()\n",
    "            # ===============Update r in SAV================\n",
    "            tmp_loss = model.loss(model(X), Y).sum()\n",
    "            r_hat = torch.sqrt(tmp_loss + C)\n",
    "            a = (r_wave - r_hat) ** 2\n",
    "            b = 2 * r_hat * (r_wave - r_hat)\n",
    "            c = r_hat ** 2 - r_wave ** 2 -  ratio_n * (torch.norm(model.a - N_a) ** 2 + torch.norm(model.W - N_w) ** 2) / lr\n",
    "            ellipsis_0 = max((-b - torch.sqrt(b ** 2 - 4 * a * c)) / (2 * a), 0)\n",
    "            # if r.item() == r_hat.item():\n",
    "            #     raise ValueError('r == r_hat')\n",
    "            if (b ** 2 - 4 * a * c) < 0:\n",
    "                raise ValueError('b^2 - 4ac < 0')\n",
    "            # print(r, r_wave, r_hat, ellipsis_0, a, b, c, (-b - torch.sqrt(b ** 2 - 4 * a * c)) / (2 * a), r - r_hat)\n",
    "            r = torch.tensor(ellipsis_0 * r_wave + (1 - ellipsis_0) * r_hat)\n",
    "            # 检测是否有nan\n",
    "            if torch.isnan(r_wave) or torch.isnan(r_hat) or torch.isnan(a) or torch.isnan(b) or torch.isnan(c):\n",
    "                print(r, r_wave, r_hat, ellipsis_0, a, b, c)\n",
    "                raise ValueError('nan')\n",
    "    with torch.no_grad():\n",
    "        train_loss = model.loss(model(X_train), Y_train).mean()\n",
    "        test_loss = model.loss(model(X_test), Y_test).mean()\n",
    "        train_losses.append(train_loss)\n",
    "        test_losses.append(test_loss)\n",
    "        norm = get_norm(model)\n",
    "        wandb.log({'epoch': epoch + 1,\n",
    "                   'train_loss': train_loss, \n",
    "                   'test_loss': test_loss,\n",
    "                   'norm_W': norm[0],\n",
    "                   'norm_a': norm[1],\n",
    "                   'accuracy': 1 - test_loss,\n",
    "                   'r': r.item(),\n",
    "                   'r_wave': r_wave.item(),\n",
    "                   'r_hat': r_hat.item(),\n",
    "                   'ellipsis': ellipsis_0})\n",
    "        print(f'epoch {epoch + 1}, loss {train_loss:.6f}, test loss {test_loss:.6f}')"
   ]
  },
  {
   "cell_type": "code",
   "execution_count": null,
   "metadata": {},
   "outputs": [],
   "source": [
    "wandb.finish()"
   ]
  }
 ],
 "metadata": {
  "kernelspec": {
   "display_name": "Python 3 (ipykernel)",
   "language": "python",
   "name": "python3"
  },
  "language_info": {
   "codemirror_mode": {
    "name": "ipython",
    "version": 3
   },
   "file_extension": ".py",
   "mimetype": "text/x-python",
   "name": "python",
   "nbconvert_exporter": "python",
   "pygments_lexer": "ipython3",
   "version": "3.8.10"
  }
 },
 "nbformat": 4,
 "nbformat_minor": 4
}
